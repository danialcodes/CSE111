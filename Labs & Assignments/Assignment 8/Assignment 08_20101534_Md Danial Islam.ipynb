{
  "nbformat": 4,
  "nbformat_minor": 0,
  "metadata": {
    "colab": {
      "name": "Assignment 08_20101534_Md Danial Islam.ipynb",
      "provenance": []
    },
    "kernelspec": {
      "name": "python3",
      "display_name": "Python 3"
    },
    "language_info": {
      "name": "python"
    }
  },
  "cells": [
    {
      "cell_type": "markdown",
      "metadata": {
        "id": "PQuGdT6DtBhg"
      },
      "source": [
        "---\n",
        "\n",
        "<center>\n",
        "CSE111</br>\n",
        "Lab Assignment no: <b>8</b> </br>\n",
        "Name: <b>Md. Danial Islam<b> </br>\n",
        "Id: <b>20101534</b> </br>\n",
        "Section: <b>1</b>\n",
        "</center>\n",
        "\n",
        "---\n",
        "\n",
        "\n",
        "\n"
      ]
    },
    {
      "cell_type": "code",
      "metadata": {
        "colab": {
          "base_uri": "https://localhost:8080/"
        },
        "id": "V4GfCUe5s0OC",
        "outputId": "b64a13ab-7d0f-4163-a30c-dab48d367f18"
      },
      "source": [
        "#Task_1\n",
        "class RealNumber:\n",
        "  def __init__(self, r=0):\n",
        "    self.__realValue = r\n",
        "  def getRealValue(self):\n",
        "    return self.__realValue\n",
        "  def setRealValue(self, r):\n",
        "    self.__realValue = r\n",
        "  def __str__(self):\n",
        "    return 'RealPart: '+str(self.getRealValue())\n",
        "\n",
        "class ComplexNumber(RealNumber):\n",
        "  def __init__(self,r=1.0,i=1.0):\n",
        "    super().__init__(float(r))\n",
        "    self.imaginaryValue = float(i)\n",
        "  def __str__(self):\n",
        "    return super().__str__()+'\\nImaginaryPart: '+str(self.imaginaryValue)\n",
        "\n",
        "\n",
        "cn1 = ComplexNumber()\n",
        "print(cn1)\n",
        "print('---------')\n",
        "cn2 = ComplexNumber(5,7)\n",
        "print(cn2)\n"
      ],
      "execution_count": 6,
      "outputs": [
        {
          "output_type": "stream",
          "name": "stdout",
          "text": [
            "RealPart: 1.0\n",
            "ImaginaryPart: 1.0\n",
            "---------\n",
            "RealPart: 5.0\n",
            "ImaginaryPart: 7.0\n"
          ]
        }
      ]
    },
    {
      "cell_type": "code",
      "metadata": {
        "colab": {
          "base_uri": "https://localhost:8080/"
        },
        "id": "YtKt6FttvB8O",
        "outputId": "e826d4e9-5ba0-47e6-93fb-4bddd7dbc539"
      },
      "source": [
        "#Task_2\n",
        "class RealNumber:\n",
        "  def __init__(self, number=0):\n",
        "    self.number = number\n",
        "  def __add__(self, anotherRealNumber):\n",
        "    return self.number + anotherRealNumber.number\n",
        "  def __sub__(self, anotherRealNumber):\n",
        "    return self.number - anotherRealNumber.number\n",
        "  def __str__(self):\n",
        "    return str(self.number)\n",
        "\n",
        "class ComplexNumber(RealNumber):\n",
        "  def __init__(self,number,imaginary):\n",
        "    if (isinstance(number,RealNumber)):\n",
        "      number = number.number\n",
        "    super().__init__(number)\n",
        "    self.imaginary = imaginary\n",
        "  def __add__(self,other):\n",
        "    number = self.number + other.number\n",
        "    imaginary = self.imaginary + other.imaginary\n",
        "    return ComplexNumber(number,imaginary)\n",
        "  def __sub__(self,other):\n",
        "    number = self.number - other.number\n",
        "    imaginary = self.imaginary - other.imaginary\n",
        "    return ComplexNumber(number,imaginary)\n",
        "  def __str__(self,):\n",
        "    if (self.imaginary) < 0:\n",
        "      self.sign = ' - '\n",
        "    else:\n",
        "      self.sign = ' + ' \n",
        "    return super().__str__() + self.sign + str(abs(self.imaginary))+'i'\n",
        "\n",
        "r1 = RealNumber(3)\n",
        "r2 = RealNumber(5)\n",
        "print(r1+r2)\n",
        "cn1 = ComplexNumber(2, 1)\n",
        "print(cn1)\n",
        "cn2 = ComplexNumber(r1, 5)\n",
        "print(cn2)\n",
        "cn3 = cn1 + cn2\n",
        "print(cn3)\n",
        "cn4 = cn1 - cn2\n",
        "print(cn4)"
      ],
      "execution_count": 17,
      "outputs": [
        {
          "output_type": "stream",
          "name": "stdout",
          "text": [
            "8\n",
            "2 + 1i\n",
            "3 + 5i\n",
            "5 + 6i\n",
            "-1 - 4i\n"
          ]
        }
      ]
    },
    {
      "cell_type": "code",
      "metadata": {
        "colab": {
          "base_uri": "https://localhost:8080/"
        },
        "id": "hlfU66uJ0ZLd",
        "outputId": "93a3a769-2583-4e58-bf21-7d2456b6425c"
      },
      "source": [
        "#Task_3\n",
        "class Account:\n",
        "  def __init__(self, balance):\n",
        "    self._balance = balance \n",
        "  def getBalance(self):\n",
        "    return self._balance\n",
        "class CheckingAccount(Account):\n",
        "  numberOfAccount = 0\n",
        "  @classmethod\n",
        "  def increaseAccount(cls):\n",
        "    cls.numberOfAccount+=1\n",
        "  def __init__(self,balance=0.0):\n",
        "    super().__init__(balance)\n",
        "    CheckingAccount.increaseAccount()\n",
        "  def __str__(self):\n",
        "    return \"Account Balance: \"+str(super().getBalance())\n",
        "\n",
        "\n",
        "print('Number of Checking Accounts: ', CheckingAccount.numberOfAccount)\n",
        "print(CheckingAccount())\n",
        "print(CheckingAccount(100.00))\n",
        "print(CheckingAccount(200.00))\n",
        "print('Number of Checking Accounts: ', CheckingAccount.numberOfAccount)"
      ],
      "execution_count": 20,
      "outputs": [
        {
          "output_type": "stream",
          "name": "stdout",
          "text": [
            "Number of Checking Accounts:  0\n",
            "Account Balance: 0.0\n",
            "Account Balance: 100.0\n",
            "Account Balance: 200.0\n",
            "Number of Checking Accounts:  3\n"
          ]
        }
      ]
    },
    {
      "cell_type": "code",
      "metadata": {
        "colab": {
          "base_uri": "https://localhost:8080/"
        },
        "id": "-WHl_3oW4pu1",
        "outputId": "e7aea4db-7f3e-4f77-9166-662d634ae79b"
      },
      "source": [
        "#Task_4\n",
        "class Fruit:\n",
        "  def __init__(self, formalin=False, name=''):\n",
        "    self.__formalin = formalin\n",
        "    self.name = name  \n",
        "  def getName(self):\n",
        "    return self.name  \n",
        "  def hasFormalin(self):\n",
        "    return self.__formalin\n",
        "\n",
        "class testFruit:\n",
        "  def test(self, f):\n",
        "    print('----Printing Detail----')\n",
        "    if f.hasFormalin():\n",
        "      print('Do not eat the',f.getName(),'.')\n",
        "      print(f)\n",
        "    else:\n",
        "      print('Eat the',f.getName(),'.')\n",
        "      print(f)\n",
        "class Mango(Fruit,testFruit):\n",
        "  def __init__(self,formalin=True,name=\"Mango\"):\n",
        "    super().__init__(formalin,name)\n",
        "  def __str__(self):\n",
        "    return super().getName()+\"s are bad for you\"\n",
        "class Jackfruit(Fruit,testFruit):\n",
        "  def __init__(self,formalin=False,name=\"Jackfruit\"):\n",
        "    super().__init__(formalin,name)\n",
        "  def __str__(self):\n",
        "    return super().getName()+\"s are good for you\"\n",
        "m = Mango()\n",
        "j = Jackfruit()\n",
        "t1 = testFruit()\n",
        "t1.test(m)\n",
        "t1.test(j)"
      ],
      "execution_count": 28,
      "outputs": [
        {
          "output_type": "stream",
          "name": "stdout",
          "text": [
            "----Printing Detail----\n",
            "Do not eat the Mango .\n",
            "Mangos are bad for you\n",
            "----Printing Detail----\n",
            "Eat the Jackfruit .\n",
            "Jackfruits are good for you\n"
          ]
        }
      ]
    },
    {
      "cell_type": "code",
      "metadata": {
        "colab": {
          "base_uri": "https://localhost:8080/"
        },
        "id": "wGui8Kq_BF8R",
        "outputId": "8252ce2f-e0f1-4024-c072-fc0ffe56a2eb"
      },
      "source": [
        "#Task_5\n",
        "class Exam:\n",
        "  def __init__(self,marks):\n",
        "    self.marks = marks\n",
        "    self.time = 60\n",
        "  def examSyllabus(self):\n",
        "    return \"Maths , English\"\n",
        "  def examParts(self):\n",
        "    return \"Part 1 - Maths\\nPart 2 - English\\n\"\n",
        "class ScienceExam(Exam):\n",
        "  def __init__(self,marks,time,*parts):\n",
        "    super().__init__(marks)\n",
        "    self.time = time\n",
        "    self.parts = parts\n",
        "  def examSyllabus(self):\n",
        "    rtn = super().examSyllabus()\n",
        "    for sub in self.parts:\n",
        "      rtn+=' , '+sub\n",
        "    return rtn\n",
        "  def examParts(self):\n",
        "    rtn = super().examParts()\n",
        "    for i in range(len(self.parts)):\n",
        "      rtn+= 'Part {} - {}\\n'.format(3+i,self.parts[i])\n",
        "    return rtn[:-1]\n",
        "  def __str__(self):\n",
        "    return \"Marks: {} Time: {} minutes Number of Parts: {}\".format(self.marks,self.time,2+len(self.parts))\n",
        "\n",
        "engineering = ScienceExam(100,90,\"Physics\",\"HigherMaths\")\n",
        "print(engineering)\n",
        "print('----------------------------------')\n",
        "print(engineering.examSyllabus())\n",
        "print(engineering.examParts())\n",
        "print('==================================')\n",
        "architecture = ScienceExam(100,120,\"Physics\",\"HigherMaths\",\"Drawing\")\n",
        "print(architecture)\n",
        "print('----------------------------------')\n",
        "print(architecture.examSyllabus())\n",
        "print(architecture.examParts())\n"
      ],
      "execution_count": 39,
      "outputs": [
        {
          "output_type": "stream",
          "name": "stdout",
          "text": [
            "Marks: 100 Time: 90 minutes Number of Parts: 4\n",
            "----------------------------------\n",
            "Maths , English , Physics , HigherMaths\n",
            "Part 1 - Maths\n",
            "Part 2 - English\n",
            "Part 3 - Physics\n",
            "Part 4 - HigherMaths\n",
            "==================================\n",
            "Marks: 100 Time: 120 minutes Number of Parts: 5\n",
            "----------------------------------\n",
            "Maths , English , Physics , HigherMaths , Drawing\n",
            "Part 1 - Maths\n",
            "Part 2 - English\n",
            "Part 3 - Physics\n",
            "Part 4 - HigherMaths\n",
            "Part 5 - Drawing\n"
          ]
        }
      ]
    },
    {
      "cell_type": "code",
      "metadata": {
        "colab": {
          "base_uri": "https://localhost:8080/"
        },
        "id": "N4pFAtFoDk0A",
        "outputId": "46b320a7-2921-4325-b1bd-e37567a54ff3"
      },
      "source": [
        "#Task_6\n",
        "class Shape3D:\n",
        "  pi = 3.14159\n",
        "  def __init__(self, name = 'Default', radius = 0):\n",
        "    self._area = 0\n",
        "    self._name = name\n",
        "    self._height = 'No need'\n",
        "    self._radius = radius\n",
        "  def calc_surface_area(self):\n",
        "    return 2 * Shape3D.pi * self._radius\n",
        "  def __str__(self):\n",
        "    return \"Radius: \"+str(self._radius)\n",
        "\n",
        "class Sphere(Shape3D):\n",
        "  def __init__(self,name,radious):\n",
        "    super().__init__(name,radious)\n",
        "    print('Shape name: {}, Area Formula: 4 * pi * r * r'.format(self._name))\n",
        "  def calc_surface_area(self):\n",
        "    self._area = super().calc_surface_area() * self._radius * 2\n",
        "  def __str__(self):\n",
        "    return 'Radius: {}, Height: {}\\nArea: {}'.format(self._radius,self._height,self._area)\n",
        "class Cylinder(Shape3D):\n",
        "  def __init__(self,name,radious,height):\n",
        "    super().__init__(name,radious)\n",
        "    self._height = height\n",
        "    print('Shape name: {}, Area Formula: 2 * pi * r * (r + h)'.format(self._name))\n",
        "  def calc_surface_area(self):\n",
        "    self._area = super().calc_surface_area() * (self._radius + self._height)\n",
        "  def __str__(self):\n",
        "    return 'Radius: {}, Height: {}\\nArea: {}'.format(self._radius,self._height,self._area)\n",
        "    \n",
        "sph = Sphere('Sphere', 5)\n",
        "print('----------------------------------')\n",
        "sph.calc_surface_area()\n",
        "print(sph)\n",
        "print('==================================')\n",
        "cyl = Cylinder('Cylinder', 5, 10)\n",
        "print('----------------------------------')\n",
        "cyl.calc_surface_area()\n",
        "print(cyl)\n"
      ],
      "execution_count": 45,
      "outputs": [
        {
          "output_type": "stream",
          "name": "stdout",
          "text": [
            "Shape name: Sphere, Area Formula: 4 * pi * r * r\n",
            "----------------------------------\n",
            "Radius: 5, Height: No need\n",
            "Area: 314.159\n",
            "==================================\n",
            "Shape name: Cylinder, Area Formula: 2 * pi * r * (r + h)\n",
            "----------------------------------\n",
            "Radius: 5, Height: 10\n",
            "Area: 471.2385\n"
          ]
        }
      ]
    },
    {
      "cell_type": "code",
      "metadata": {
        "colab": {
          "base_uri": "https://localhost:8080/"
        },
        "id": "A7l0kHifLoz-",
        "outputId": "3ca052eb-ebb0-4393-f1b4-a207418c9df5"
      },
      "source": [
        "#Task_7\n",
        "\n",
        "class PokemonBasic:\n",
        "  def __init__(self, name = 'Default', hp = 0, weakness = 'None', type = 'Unknown'):\n",
        "    self.name = name\n",
        "    self.hit_point = hp\n",
        "    self.weakness = weakness\n",
        "    self.type = type\n",
        "  def get_type(self):\n",
        "    return 'Main type: ' + self.type\n",
        "  def get_move(self):\n",
        "    return 'Basic move: ' + 'Quick Attack'\n",
        "  def __str__(self):\n",
        "    return \"Name: \" + self.name + \", HP: \" + str(self.hit_point) + \", Weakness: \" + self.weakness\n",
        "class PokemonExtra(PokemonBasic):\n",
        "  def __init__(self,*info):\n",
        "    super().__init__(info[0],info[1],info[2],info[3])\n",
        "    if (len(info)>4):\n",
        "      self.secType = info[4]\n",
        "      self.otherMove = info[5]\n",
        "  def get_type(self):\n",
        "    try:\n",
        "      return super().get_type()+', Secondary type: ' + self.secType\n",
        "    except:\n",
        "      return super().get_type()\n",
        "  def get_move(self):\n",
        "    try:\n",
        "      return super().get_move()+'\\n'+'Other move: {}, {}'.format(self.otherMove[0],self.otherMove[1])\n",
        "      return self.otherMove[:-5]\n",
        "    except:\n",
        "      return super().get_move()\n",
        "print('\\n------------Basic Info:--------------')\n",
        "pk = PokemonBasic()\n",
        "print(pk)\n",
        "print(pk.get_type())\n",
        "print(pk.get_move())\n",
        "print('\\n------------Pokemon 1 Info:-------------')\n",
        "charmander = PokemonExtra('Charmander', 39, 'Water','Fire')\n",
        "print(charmander)\n",
        "print(charmander.get_type())\n",
        "print(charmander.get_move())\n",
        "print('\\n------------Pokemon 2 Info:-------------')\n",
        "charizard = PokemonExtra('Charizard', 78, 'Water','Fire', 'Flying', ('Fire Spin', 'Fire Blaze'))\n",
        "print(charizard)\n",
        "print(charizard.get_type())\n",
        "print(charizard.get_move())\n"
      ],
      "execution_count": 61,
      "outputs": [
        {
          "output_type": "stream",
          "name": "stdout",
          "text": [
            "\n",
            "------------Basic Info:--------------\n",
            "Name: Default, HP: 0, Weakness: None\n",
            "Main type: Unknown\n",
            "Basic move: Quick Attack\n",
            "\n",
            "------------Pokemon 1 Info:-------------\n",
            "Name: Charmander, HP: 39, Weakness: Water\n",
            "Main type: Fire\n",
            "Basic move: Quick Attack\n",
            "\n",
            "------------Pokemon 2 Info:-------------\n",
            "Name: Charizard, HP: 78, Weakness: Water\n",
            "Main type: Fire, Secondary type: Flying\n",
            "Basic move: Quick Attack\n",
            "Other move: Fire Spin, Fire Blaze\n"
          ]
        }
      ]
    },
    {
      "cell_type": "code",
      "metadata": {
        "colab": {
          "base_uri": "https://localhost:8080/"
        },
        "id": "tbkk3wPURVd8",
        "outputId": "62cd8678-6b19-4ea1-c40d-8a80346f044f"
      },
      "source": [
        "#Task_8\n",
        "class Team:\n",
        "  def __init__(self, name):\n",
        "    self.name = \"default\"\n",
        "    self.total_player = 5\n",
        "  def info(self):\n",
        "    print(\"We love sports\")\n",
        "# Write your code here.\n",
        "class Team_test:\n",
        "  def check(self, tm):\n",
        "    print(\"=========================\")\n",
        "    print(\"Total Player:\", tm.total_player)\n",
        "    tm.info()\n",
        "class CricketTeam(Team):\n",
        "  def __init__(self,name):\n",
        "    self.name = name\n",
        "    self.total_player = 11\n",
        "  def info(self):\n",
        "    print('Our name is {}\\nWe play Cricket'.format(self.name))\n",
        "    super().info()\n",
        "class FootBallTeam(Team):\n",
        "  def __init__(self,name):\n",
        "    self.name = name\n",
        "    self.total_player = 11\n",
        "  def info(self):\n",
        "    print('Our name is {}\\nWe play Football'.format(self.name))\n",
        "    super().info()\n",
        "\n",
        "f = FootBallTeam(\"Brazil\")\n",
        "c = CricketTeam(\"Bangladesh\")\n",
        "test = Team_test()\n",
        "test.check(f)\n",
        "test.check(c)"
      ],
      "execution_count": 70,
      "outputs": [
        {
          "output_type": "stream",
          "name": "stdout",
          "text": [
            "=========================\n",
            "Total Player: 11\n",
            "Our name is Brazil\n",
            "We play Football\n",
            "We love sports\n",
            "=========================\n",
            "Total Player: 11\n",
            "Our name is Bangladesh\n",
            "We play Cricket\n",
            "We love sports\n"
          ]
        }
      ]
    },
    {
      "cell_type": "code",
      "metadata": {
        "colab": {
          "base_uri": "https://localhost:8080/"
        },
        "id": "8385_zgKUND1",
        "outputId": "933f2718-69cd-4737-f120-59a85e798640"
      },
      "source": [
        "#Task_9\n",
        "class Pokemon:\n",
        "  def __init__(self, p):\n",
        "    self.pokemon = p\n",
        "    self.pokemon_type = \"Needs to be set\"\n",
        "    self.pokemon_weakness = \"Needs to be set\"\n",
        "  def kind(self):\n",
        "    return self.pokemon_type\n",
        "  def weakness(self):\n",
        "    return self.pokemon_weakness\n",
        "  def what_am_i(self):\n",
        "    print(\"I am a Pokemon.\")\n",
        "class Pikachu(Pokemon):\n",
        "  def __init__(self,name='Pikachu'):\n",
        "    super().__init__(name)\n",
        "    self.pokemon_type = 'Electric'\n",
        "    self.pokemon_weakness = 'Ground'\n",
        "  def what_am_i(self):\n",
        "    super().what_am_i()\n",
        "    print('I am {}.'.format(self.pokemon))\n",
        "class Charmander(Pokemon):\n",
        "  def __init__(self,name='Charmander'):\n",
        "    super().__init__(name)\n",
        "    self.pokemon_type = 'Fire'\n",
        "    self.pokemon_weakness = 'Water, Ground and Rock'\n",
        "  def what_am_i(self):\n",
        "    super().what_am_i()\n",
        "    print('I am {}.'.format(self.pokemon))\n",
        "pk1 = Pikachu()\n",
        "print(\"Pokemon:\", pk1.pokemon)\n",
        "print(\"Type:\", pk1.kind())\n",
        "print(\"Weakness:\", pk1.weakness())\n",
        "pk1.what_am_i()\n",
        "print(\"========================\")\n",
        "c1 = Charmander()\n",
        "print(\"Pokemon:\", c1.pokemon)\n",
        "print(\"Type:\", c1.kind())\n",
        "print(\"Weakness:\", c1.weakness())\n",
        "c1.what_am_i()\n"
      ],
      "execution_count": 72,
      "outputs": [
        {
          "output_type": "stream",
          "name": "stdout",
          "text": [
            "Pokemon: Pikachu\n",
            "Type: Electric\n",
            "Weakness: Ground\n",
            "I am a Pokemon.\n",
            "I am Pikachu.\n",
            "========================\n",
            "Pokemon: Charmander\n",
            "Type: Fire\n",
            "Weakness: Water, Ground and Rock\n",
            "I am a Pokemon.\n",
            "I am Charmander.\n"
          ]
        }
      ]
    },
    {
      "cell_type": "code",
      "metadata": {
        "colab": {
          "base_uri": "https://localhost:8080/"
        },
        "id": "tnQqxd7uWI1T",
        "outputId": "d5fdd0e7-e486-40cd-a4cf-5d6617cb6b67"
      },
      "source": [
        "#Task_10\n",
        "class Department:\n",
        "  def __init__(self, s):\n",
        "    self.semester = s\n",
        "    self.name = \"Default\"\n",
        "    self.id = -1  \n",
        "  def student_info(self):\n",
        "    print(\"Name:\", self.name)\n",
        "    print(\"ID:\", self.id) \n",
        "  def courses(self, c1, c2, c3):\n",
        "    print(\"No courses Approved yet!\")\n",
        "class CSE(Department):\n",
        "  def __init__(self,name,id,semester):\n",
        "    super().__init__(semester)\n",
        "    self.name = name\n",
        "    self.id = id\n",
        "    self.dept = 'CSE'\n",
        "  def courses(self, c1, c2, c3):\n",
        "    print(\"Courses Approved to this {} student in {} semester :\\n{}\\n{}\\n{}\".format(self.dept,self.semester,c1,c2,c3)) \n",
        "class EEE(CSE): #As cse derived from depertment class, eee will also be derived from depertment class\n",
        "  def __init__(self,name,id,semester):\n",
        "    super().__init__(name,id,semester)\n",
        "    self.dept = \"EEE\"\n",
        "\n",
        "s1 = CSE(\"Rahim\", 16101328,\"Spring2016\")\n",
        "s1.student_info()\n",
        "s1.courses(\"CSE110\", \"MAT110\", \"ENG101\")\n",
        "print(\"==================\")\n",
        "s2 = EEE(\"Tanzim\", 18101326, \"Spring2018\")\n",
        "s2.student_info()\n",
        "s2.courses(\"Mat110\", \"PHY111\", \"ENG101\")\n",
        "print(\"==================\")\n",
        "s3 = CSE(\"Rudana\", 18101326, \"Fall2017\")\n",
        "s3.student_info()\n",
        "s3.courses(\"CSE111\", \"PHY101\", \"MAT120\")\n",
        "print(\"==================\")\n",
        "s4 = EEE(\"Zainab\", 19201623, \"Summer2019\")\n",
        "s4.student_info()\n",
        "s4.courses(\"EEE201\", \"PHY112\", \"MAT120\")"
      ],
      "execution_count": 77,
      "outputs": [
        {
          "output_type": "stream",
          "name": "stdout",
          "text": [
            "Name: Rahim\n",
            "ID: 16101328\n",
            "Courses Approved to this CSE student in Spring2016 semester :\n",
            "CSE110\n",
            "MAT110\n",
            "ENG101\n",
            "==================\n",
            "Name: Tanzim\n",
            "ID: 18101326\n",
            "Courses Approved to this EEE student in Spring2018 semester :\n",
            "Mat110\n",
            "PHY111\n",
            "ENG101\n",
            "==================\n",
            "Name: Rudana\n",
            "ID: 18101326\n",
            "Courses Approved to this CSE student in Fall2017 semester :\n",
            "CSE111\n",
            "PHY101\n",
            "MAT120\n",
            "==================\n",
            "Name: Zainab\n",
            "ID: 19201623\n",
            "Courses Approved to this EEE student in Summer2019 semester :\n",
            "EEE201\n",
            "PHY112\n",
            "MAT120\n"
          ]
        }
      ]
    },
    {
      "cell_type": "markdown",
      "metadata": {
        "id": "zsuq_4Z9tGlM"
      },
      "source": [
        "<center>Arrigato ❤ </center>"
      ]
    }
  ]
}