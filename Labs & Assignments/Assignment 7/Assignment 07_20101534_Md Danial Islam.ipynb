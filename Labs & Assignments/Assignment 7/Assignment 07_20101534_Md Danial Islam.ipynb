{
  "nbformat": 4,
  "nbformat_minor": 0,
  "metadata": {
    "colab": {
      "name": "Assignment 07_20101534_Md Danial Islam.ipynb",
      "provenance": []
    },
    "kernelspec": {
      "name": "python3",
      "display_name": "Python 3"
    },
    "language_info": {
      "name": "python"
    }
  },
  "cells": [
    {
      "cell_type": "markdown",
      "metadata": {
        "id": "HWSYt1WlUSCt"
      },
      "source": [
        "---\n",
        "\n",
        "<center>\n",
        "CSE111</br>\n",
        "Lab Assignment no: <b>7</b> </br>\n",
        "Name: <b>Md. Danial Islam<b> </br>\n",
        "Id: <b>20101534</b> </br>\n",
        "Section: <b>1</b>\n",
        "</center>\n",
        "\n",
        "---\n",
        "\n",
        "\n",
        "\n"
      ]
    },
    {
      "cell_type": "code",
      "metadata": {
        "colab": {
          "base_uri": "https://localhost:8080/"
        },
        "id": "CvyFuopwURkz",
        "outputId": "f5ccebf0-7849-47fa-d3b1-da7991f82f8e"
      },
      "source": [
        "#Task_1\n",
        "\n",
        "class Student:\n",
        "  def __init__(self, name='Just a student', dept='nothing'):\n",
        "    self.__name = name\n",
        "    self.__department = dept\n",
        "  def set_department(self, dept):\n",
        "    self.__department = dept\n",
        "  def get_name(self):\n",
        "    return self.__name\n",
        "  def set_name(self,name):\n",
        "    self.__name = name\n",
        "  def __str__(self):\n",
        "    return 'Name: '+self.__name+' Department: '+self.__department\n",
        "\n",
        "\n",
        "class BBA_Student(Student):\n",
        "  def __init__(self,name='default',dept='BBA'):\n",
        "    super().__init__(name,dept)\n",
        "#write your code here\n",
        "print(BBA_Student())\n",
        "print(BBA_Student('Humpty Dumpty'))\n",
        "print(BBA_Student('Little Bo Peep'))"
      ],
      "execution_count": 9,
      "outputs": [
        {
          "output_type": "stream",
          "text": [
            "Name: default Department: BBA\n",
            "Name: Humpty Dumpty Department: BBA\n",
            "Name: Little Bo Peep Department: BBA\n"
          ],
          "name": "stdout"
        }
      ]
    },
    {
      "cell_type": "code",
      "metadata": {
        "colab": {
          "base_uri": "https://localhost:8080/"
        },
        "id": "Z9N3uMd5UJ8g",
        "outputId": "3ca1bda5-68c9-42cc-ef51-834681353013"
      },
      "source": [
        "#Task_2\n",
        "\n",
        "class Vehicle:\n",
        "  def __init__(self):\n",
        "    self.x = 0\n",
        "    self.y = 0\n",
        "  def moveUp(self):\n",
        "    self.y+=1\n",
        "  def moveDown(self):\n",
        "    self.y-=1\n",
        "  def moveRight(self):\n",
        "    self.x+=1\n",
        "  def moveLeft(self):\n",
        "    self.x-=1\n",
        "  def __str__(self):\n",
        "    return '('+str(self.x)+' , '+str(self.y)+')'\n",
        "\n",
        "\n",
        "class Vehicle2010(Vehicle):\n",
        "  def moveUpperRight(self):\n",
        "    super().moveUp()\n",
        "    super().moveRight()\n",
        "  def moveUpperLeft(self):\n",
        "    super().moveUp()\n",
        "    super().moveLeft()\n",
        "  def moveLowerRight(self):\n",
        "    super().moveDown()\n",
        "    super().moveRight()\n",
        "  def moveLowerLeft(self):\n",
        "    super().moveDown()\n",
        "    super().moveLeft()\n",
        "  def equals(self,other):\n",
        "    if (self.x == other.x) and (self.y == other.y):\n",
        "      return True\n",
        "    else:\n",
        "      return False\n",
        "\n",
        "#write your code here\n",
        "print('Part 1')\n",
        "print('------')\n",
        "car = Vehicle()\n",
        "print(car)\n",
        "car.moveUp()\n",
        "print(car)\n",
        "car.moveLeft()\n",
        "print(car)\n",
        "car.moveDown()\n",
        "print(car)\n",
        "car.moveRight()\n",
        "print(car)\n",
        "print('------')\n",
        "print('Part 2')\n",
        "print('------')\n",
        "car1 = Vehicle2010()\n",
        "print(car1)\n",
        "car1.moveLowerLeft()\n",
        "print(car1)\n",
        "car2 = Vehicle2010()\n",
        "car2.moveLeft()\n",
        "print(car1.equals(car2))\n",
        "car2.moveDown()\n",
        "print(car1.equals(car2))\n",
        "# print('------')    #Uncomminting it will print last line of the output, but as we cannot change code so i just did it"
      ],
      "execution_count": 13,
      "outputs": [
        {
          "output_type": "stream",
          "text": [
            "Part 1\n",
            "------\n",
            "(0 , 0)\n",
            "(0 , 1)\n",
            "(-1 , 1)\n",
            "(-1 , 0)\n",
            "(0 , 0)\n",
            "------\n",
            "Part 2\n",
            "------\n",
            "(0 , 0)\n",
            "(-1 , -1)\n",
            "False\n",
            "True\n"
          ],
          "name": "stdout"
        }
      ]
    },
    {
      "cell_type": "code",
      "metadata": {
        "colab": {
          "base_uri": "https://localhost:8080/"
        },
        "id": "0PV7OKKFdci6",
        "outputId": "029806e4-83d2-45b3-d60c-a907595ae0e3"
      },
      "source": [
        "#Task_3\n",
        "\n",
        "class Tournament:\n",
        "  def __init__(self,name='Default'):\n",
        "    self.__name = name\n",
        "  def set_name(self,name):\n",
        "    self.__name = name\n",
        "  def get_name(self):\n",
        "    return self.__name\n",
        "\n",
        "class Cricket_Tournament(Tournament):\n",
        "  def __init__(self,name=\"Default\",team=0,typ=\"No type\"):\n",
        "    super().set_name(name)\n",
        "    self.team = team\n",
        "    self.typ = typ\n",
        "  def detail(self):\n",
        "    return 'Cricket Tournament Name: {}\\nNumber of Teams: {}\\nType: {}'.format(super().get_name(),self.team,self.typ)\n",
        "\n",
        "class Tennis_Tournament(Tournament):\n",
        "  def __init__(self,name=\"Default\",player=0):\n",
        "    super().set_name(name)\n",
        "    self.player = player\n",
        "  def detail(self):\n",
        "    return 'Tennis Tournament Name: {}\\nNumber of Players: {}'.format(super().get_name(),self.player)\n",
        "#write your code here\n",
        "ct1 = Cricket_Tournament()\n",
        "print(ct1.detail())\n",
        "print(\"-----------------------\")\n",
        "ct2 = Cricket_Tournament(\"IPL\",10,\"t20\")\n",
        "print(ct2.detail())\n",
        "print(\"-----------------------\")\n",
        "tt = Tennis_Tournament(\"Roland Garros\",128)\n",
        "print(tt.detail())\n"
      ],
      "execution_count": 15,
      "outputs": [
        {
          "output_type": "stream",
          "text": [
            "Cricket Tournament Name: Default\n",
            "Number of Teams: 0\n",
            "Type: No type\n",
            "-----------------------\n",
            "Cricket Tournament Name: IPL\n",
            "Number of Teams: 10\n",
            "Type: t20\n",
            "-----------------------\n",
            "Tennis Tournament Name: Roland Garros\n",
            "Number of Players: 128\n"
          ],
          "name": "stdout"
        }
      ]
    },
    {
      "cell_type": "code",
      "metadata": {
        "colab": {
          "base_uri": "https://localhost:8080/"
        },
        "id": "9rrNid1AhAop",
        "outputId": "7ff2f5c4-b464-4f4a-c8b9-f45b3918e961"
      },
      "source": [
        "#Task_4\n",
        "\n",
        "class Product:\n",
        "  def __init__(self,id, title, price):\n",
        "    self.__id = id\n",
        "    self. __title = title\n",
        "    self. __price = price\n",
        "  def get_id_title_price(self):\n",
        "    return \"ID: \"+str(self.__id)+\" Title: \"+self.__title+\" Price: \"+str(self.__price)\n",
        "\n",
        "class Book(Product):\n",
        "  def __init__(self,id,title,price,isbn,publisher):\n",
        "    super().__init__(id,title,price)\n",
        "    self.isbn = isbn\n",
        "    self.publisher = publisher\n",
        "  def printDetail(self):\n",
        "    return '{}\\nISBN: {} Publisher: {}'.format(super().get_id_title_price(),self.isbn,self.publisher)\n",
        "class CD(Product):\n",
        "  def __init__(self,id,title,price,band,time,genre):\n",
        "    super().__init__(id,title,price)\n",
        "    self.band = band\n",
        "    self.time = time\n",
        "    self.genre = genre\n",
        "  def printDetail(self):\n",
        "    return '{}\\nBand: {} Duration: {}minutes\\nGenre: {}'.format(super().get_id_title_price(),self.band,self.time,self.genre)\n",
        "\n",
        "#write your code here\n",
        "book = Book(1,\"The Alchemist\",500,\"97806\",\"HarperCollins\")\n",
        "print(book.printDetail())\n",
        "print(\"-----------------------\")\n",
        "cd = CD(2,\"Shotto\",300,\"Warfaze\",50,\"Hard Rock\")\n",
        "print(cd.printDetail())"
      ],
      "execution_count": 19,
      "outputs": [
        {
          "output_type": "stream",
          "text": [
            "ID: 1 Title: The Alchemist Price: 500\n",
            "ISBN: 97806 Publisher: HarperCollins\n",
            "-----------------------\n",
            "ID: 2 Title: Shotto Price: 300\n",
            "Band: Warfaze Duration: 50minutes\n",
            "Genre: Hard Rock\n"
          ],
          "name": "stdout"
        }
      ]
    },
    {
      "cell_type": "code",
      "metadata": {
        "colab": {
          "base_uri": "https://localhost:8080/"
        },
        "id": "k0VlOd71uGm8",
        "outputId": "bdfee442-365a-406b-d6c6-beb3d9100e95"
      },
      "source": [
        "#Task5\n",
        "\n",
        "class Animal:\n",
        "  def __init__(self,sound):\n",
        "    self.__sound = sound\n",
        "\n",
        "  def makeSound(self):\n",
        "    return self.__sound\n",
        "\n",
        "class Printer:\n",
        "  def printSound(self, a):\n",
        "    print(a.makeSound())\n",
        "\n",
        "class Dog(Animal):\n",
        "  # def __init__(self,sound):\n",
        "  #   super().__init__(sound)\n",
        "  pass\n",
        "\n",
        "class Cat(Animal):\n",
        "  # def __init__(self,sound):\n",
        "  #   super().__init__(sound)\n",
        "  pass\n",
        "#write your code here\n",
        "d1 = Dog('bark')\n",
        "c1 = Cat('meow')\n",
        "a1 = Animal('Animal does not make sound')\n",
        "pr = Printer()\n",
        "pr.printSound(a1)\n",
        "pr.printSound(c1)\n",
        "pr.printSound(d1)"
      ],
      "execution_count": 23,
      "outputs": [
        {
          "output_type": "stream",
          "text": [
            "Animal does not make sound\n",
            "meow\n",
            "bark\n"
          ],
          "name": "stdout"
        }
      ]
    },
    {
      "cell_type": "code",
      "metadata": {
        "id": "OhNOSTQfw61c"
      },
      "source": [
        "#Task 6 to 7\n",
        "\n",
        "# Last moment e suru kore sesh korte pari nai :'(\n"
      ],
      "execution_count": null,
      "outputs": []
    },
    {
      "cell_type": "markdown",
      "metadata": {
        "id": "Le7sI-InUUKD"
      },
      "source": [
        "<center>Arrigato ❤ </center>"
      ]
    }
  ]
}