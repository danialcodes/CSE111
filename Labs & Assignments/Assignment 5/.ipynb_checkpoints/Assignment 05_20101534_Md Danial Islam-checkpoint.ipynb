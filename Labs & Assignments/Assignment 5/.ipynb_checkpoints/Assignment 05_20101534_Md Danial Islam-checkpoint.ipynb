{
 "cells": [
  {
   "cell_type": "markdown",
   "metadata": {
    "id": "09r02J2vG6pz"
   },
   "source": [
    "---\n",
    "\n",
    "<center>\n",
    "CSE111</br>\n",
    "Lab Assignment no: <b>5</b> </br>\n",
    "Name: <b>Md. Danial Islam<b> </br>\n",
    "Id: <b>20101534</b> </br>\n",
    "Section: <b>1</b>\n",
    "</center>\n",
    "\n",
    "---\n",
    "\n",
    "\n",
    "\n"
   ]
  },
  {
   "cell_type": "code",
   "execution_count": 19,
   "metadata": {
    "colab": {
     "base_uri": "https://localhost:8080/"
    },
    "id": "7l8wnRRnaQ21",
    "outputId": "f5d5e73d-29d7-45d8-d961-f0f2a9ec0599"
   },
   "outputs": [
    {
     "name": "stdout",
     "output_type": "stream",
     "text": [
      "Quiz 1 (out of 10): 10\n",
      "Quiz 2 (out of 10): 10\n",
      "Lab (out of 30): 30\n",
      "Mid (out of 20): 20\n",
      "Final (out of 30): 30\n",
      "Total marks: 100\n"
     ]
    }
   ],
   "source": [
    "#Task_1\n",
    "class Marks:\n",
    "  def __init__(self,mark):\n",
    "    self.mark = mark\n",
    "  def __add__(self,other):\n",
    "    return Marks(self.mark + other.mark)\n",
    "\n",
    "\n",
    "Q1 = Marks(int(input(\"Quiz 1 (out of 10): \")))\n",
    "Q2 = Marks(int(input(\"Quiz 2 (out of 10): \")))\n",
    "Lab = Marks(int(input(\"Lab (out of 30): \")))\n",
    "Mid = Marks(int(input(\"Mid (out of 20): \")))\n",
    "Final = Marks(int(input(\"Final (out of 30): \")))\n",
    "total = Q1 + Q2 + Lab + Mid + Final\n",
    "print(\"Total marks: {}\".format(total.mark))"
   ]
  },
  {
   "cell_type": "code",
   "execution_count": 20,
   "metadata": {
    "colab": {
     "base_uri": "https://localhost:8080/"
    },
    "id": "rzFhgKdUdzPr",
    "outputId": "da791a81-f65d-4f7e-8074-1add5ff15b6b"
   },
   "outputs": [
    {
     "name": "stdout",
     "output_type": "stream",
     "text": [
      "=======================================\n",
      "Name: Saad Abdullah\n",
      "Department: CSE\n",
      "List of courses\n",
      "=======================================\n",
      "CSE 110 Programming Language I\n",
      "CSE 111 Programming Language-II\n",
      "=======================================\n",
      "=======================================\n",
      "Name: Mumit Khan\n",
      "Department: CSE\n",
      "List of courses\n",
      "=======================================\n",
      "CSE 220 Data Structures\n",
      "CSE 221 Algorithms\n",
      "CCSE 230 Discrete Mathematics\n",
      "=======================================\n",
      "=======================================\n",
      "Name: Sadia Kazi\n",
      "Department: CSE\n",
      "List of courses\n",
      "=======================================\n",
      "CSE 310 Object Oriented Programming\n",
      "CSE 320 Data Communications\n",
      "CSE 340 Computer Architecture\n",
      "=======================================\n"
     ]
    }
   ],
   "source": [
    "#Task_2\n",
    "class Teacher:\n",
    "  def __init__(self,name,department):\n",
    "    self.__name = name\n",
    "    self.__department = department\n",
    "    self.__courses = []\n",
    "  def addCourse(self,course):\n",
    "    self.__courses.append(course.course_name)\n",
    "  def printDetail(self):\n",
    "    print('=======================================')\n",
    "    print('Name: {}\\nDepartment: {}\\nList of courses'.format(self.__name,self.__department))\n",
    "    print('=======================================')\n",
    "    for course in self.__courses:\n",
    "      print(course)\n",
    "    print('=======================================')\n",
    "\n",
    "\n",
    "class Course:\n",
    "  def __init__(self,course):\n",
    "    self.course_name = course\n",
    "\n",
    "\n",
    "t1 = Teacher(\"Saad Abdullah\", \"CSE\")\n",
    "t2 = Teacher(\"Mumit Khan\", \"CSE\")\n",
    "t3 = Teacher(\"Sadia Kazi\", \"CSE\")\n",
    "c1 = Course(\"CSE 110 Programming Language I\")\n",
    "c2 = Course(\"CSE 111 Programming Language-II\")\n",
    "c3 = Course(\"CSE 220 Data Structures\")\n",
    "c4 = Course(\"CSE 221 Algorithms\")\n",
    "c5 = Course(\"CCSE 230 Discrete Mathematics\")\n",
    "c6 = Course(\"CSE 310 Object Oriented Programming\")\n",
    "c7 = Course(\"CSE 320 Data Communications\")\n",
    "c8 = Course(\"CSE 340 Computer Architecture\")\n",
    "t1.addCourse(c1)\n",
    "t1.addCourse(c2)\n",
    "t2.addCourse(c3)\n",
    "t2.addCourse(c4)\n",
    "t2.addCourse(c5)\n",
    "t3.addCourse(c6)\n",
    "t3.addCourse(c7)\n",
    "t3.addCourse(c8)\n",
    "t1.printDetail()\n",
    "t2.printDetail()\n",
    "t3.printDetail()"
   ]
  },
  {
   "cell_type": "code",
   "execution_count": 3,
   "metadata": {
    "colab": {
     "base_uri": "https://localhost:8080/"
    },
    "id": "8AUC-dZX8No_",
    "outputId": "8730e64b-fa09-4593-99a4-c58363b4cb68"
   },
   "outputs": [
    {
     "name": "stdout",
     "output_type": "stream",
     "text": [
      "=====================\n",
      "Team: Bangladesh\n",
      "List of Players:\n",
      "['Mashrafi', 'Tamim']\n",
      "=====================\n",
      "=====================\n",
      "Team: Australia\n",
      "List of Players:\n",
      "['Ponting', 'Lee']\n",
      "=====================\n"
     ]
    }
   ],
   "source": [
    "#Task_3\n",
    "\n",
    "class Team:\n",
    "  def __init__(self,name=\"\"):\n",
    "    self.__name = name\n",
    "    self.__players = []\n",
    "  def setName(self,name):\n",
    "    self.__name = name\n",
    "  def addPlayer(self,other):\n",
    "    self.__players.append(other.name)\n",
    "  def printDetail(self):\n",
    "    print(\"=====================\")\n",
    "    print(\"Team: {}\\nList of Players:\\n{}\".format(self.__name,self.__players))\n",
    "    print(\"=====================\")\n",
    "\n",
    "class Player:\n",
    "  def __init__(self,name):\n",
    "    self.name = name\n",
    "\n",
    "\n",
    "\n",
    "b = Team()\n",
    "b.setName('Bangladesh')\n",
    "mashrafi = Player(\"Mashrafi\")\n",
    "b.addPlayer(mashrafi)\n",
    "tamim = Player(\"Tamim\")\n",
    "b.addPlayer(tamim)\n",
    "b.printDetail()\n",
    "a = Team(\"Australia\")\n",
    "ponting = Player(\"Ponting\")\n",
    "a.addPlayer(ponting)\n",
    "lee = Player(\"Lee\")\n",
    "a.addPlayer(lee)\n",
    "a.printDetail()"
   ]
  },
  {
   "cell_type": "code",
   "execution_count": 22,
   "metadata": {
    "colab": {
     "base_uri": "https://localhost:8080/"
    },
    "id": "XnQEFnip932-",
    "outputId": "54920158-9694-411f-e137-ee0694dc20dd"
   },
   "outputs": [
    {
     "name": "stdout",
     "output_type": "stream",
     "text": [
      "First Color: blue\n",
      "Second Color: red\n",
      "Color formed: Violet\n"
     ]
    }
   ],
   "source": [
    "#Task_4\n",
    "\n",
    "class Color:\n",
    "  def __init__(self,color):\n",
    "    self.clr = color\n",
    "  def __add__(self,other):\n",
    "    if (self.clr == 'red' and other.clr ==\"yellow\") or (other.clr == 'red' and self.clr ==\"yellow\"):\n",
    "      return Color('Orange')\n",
    "    elif (self.clr == 'red' and other.clr ==\"blue\") or (other.clr == 'red' and self.clr ==\"blue\"):\n",
    "      return Color('Violet')\n",
    "    elif (self.clr == 'yellow' and other.clr ==\"blue\") or (other.clr == 'yellow' and self.clr ==\"blue\"):\n",
    "      return Color('Green')\n",
    "\n",
    "    \n",
    "C1 = Color(input(\"First Color: \").lower())\n",
    "C2 = Color(input(\"Second Color: \").lower())\n",
    "C3 = C1 + C2\n",
    "print(\"Color formed:\", C3.clr)"
   ]
  },
  {
   "cell_type": "code",
   "execution_count": 23,
   "metadata": {
    "colab": {
     "base_uri": "https://localhost:8080/"
    },
    "id": "ZZzun0IJ316i",
    "outputId": "4ef0f7da-1b5c-4689-d5a0-16e79cd274ef"
   },
   "outputs": [
    {
     "name": "stdout",
     "output_type": "stream",
     "text": [
      "First circle radius: 4\n",
      "First circle area: 50.26548245743669\n",
      "Second circle radius: 5\n",
      "Second circle area: 78.53981633974483\n",
      "Third circle radius: 9\n",
      "Third circle area: 254.46900494077323\n"
     ]
    }
   ],
   "source": [
    "#Task_5\n",
    "import math\n",
    "class Circle:\n",
    "  def __init__(self,radious=\"\"):\n",
    "    if (radious != ''):\n",
    "      self.__radious = radious\n",
    "  def getRadius(self):\n",
    "    return self.__radious\n",
    "  def setRadius(self,radious):\n",
    "    self.__radious = radious\n",
    "  def area(self):\n",
    "    return math.pi * self.__radious * self.__radious\n",
    "  def __add__(self,other):\n",
    "    return Circle(self.__radious + other.__radious)\n",
    "\n",
    "\n",
    "\n",
    "c1 = Circle(4)\n",
    "print(\"First circle radius:\" , c1.getRadius())\n",
    "print(\"First circle area:\" ,c1.area())\n",
    "c2 = Circle(5)\n",
    "print(\"Second circle radius:\" ,c2.getRadius())\n",
    "print(\"Second circle area:\" ,c2.area())\n",
    "c3 = c1 + c2\n",
    "print(\"Third circle radius:\" ,c3.getRadius())\n",
    "print(\"Third circle area:\" ,c3.area())"
   ]
  },
  {
   "cell_type": "code",
   "execution_count": 24,
   "metadata": {
    "colab": {
     "base_uri": "https://localhost:8080/"
    },
    "id": "JiVQykW_9IrP",
    "outputId": "9b6ae7df-2683-4d7c-e9e8-40e8c210d2a4"
   },
   "outputs": [
    {
     "name": "stdout",
     "output_type": "stream",
     "text": [
      "First Triangle Base: 10\n",
      "First Triangle Height: 5\n",
      "First Triangle area: 25.0\n",
      "Second Triangle Base: 5\n",
      "Second Triangle Height: 3\n",
      "Second Triangle area: 7.5\n",
      "Third Triangle Base: 5\n",
      "Third Triangle Height: 2\n",
      "Third Triangle area: 5.0\n"
     ]
    }
   ],
   "source": [
    "#Task_6\n",
    "class Triangle:\n",
    "  def __init__(self,base,height):\n",
    "    self.__base = base\n",
    "    self.__height = height\n",
    "  def getBase(self):\n",
    "    return self.__base\n",
    "  def getHeight(self):\n",
    "    return self.__height\n",
    "  def setBase(self,base):\n",
    "    self.__base = base\n",
    "  def setHeight(self,base):\n",
    "    self.__height = height\n",
    "  def area(self):\n",
    "    return .5 * self.__base * self.__height\n",
    "  def __sub__(self,other):\n",
    "    base = self.__base - other.__base\n",
    "    height = self.__height - other.__height\n",
    "    return Triangle(base,height)\n",
    "\n",
    "t1 = Triangle(10, 5)\n",
    "print(\"First Triangle Base:\" , t1.getBase())\n",
    "print(\"First Triangle Height:\" , t1.getHeight())\n",
    "print(\"First Triangle area:\" ,t1.area())\n",
    "t2 = Triangle(5, 3)\n",
    "print(\"Second Triangle Base:\" , t2.getBase())\n",
    "print(\"Second Triangle Height:\" , t2.getHeight())\n",
    "print(\"Second Triangle area:\" ,t2.area())\n",
    "t3 = t1 - t2\n",
    "print(\"Third Triangle Base:\" , t3.getBase())\n",
    "print(\"Third Triangle Height:\" , t3.getHeight())\n",
    "print(\"Third Triangle area:\" ,t3.area()) "
   ]
  },
  {
   "cell_type": "code",
   "execution_count": 25,
   "metadata": {
    "colab": {
     "base_uri": "https://localhost:8080/"
    },
    "id": "r28-uL69Aa2Q",
    "outputId": "a6701b08-fb62-44b6-cee8-8a8c3e0d3272"
   },
   "outputs": [
    {
     "name": "stdout",
     "output_type": "stream",
     "text": [
      "Doll: Tweety\n",
      "Total Price: 2500 taka\n",
      "Thank you!\n",
      "=========================\n",
      "Doll: Daffy Duck\n",
      "Total Price: 1800 taka\n",
      "Thank you!\n",
      "=========================\n",
      "Doll: Bugs Bunny\n",
      "Total Price: 3000 taka\n",
      "Congratulations! You get the Tweety as a gift!\n",
      "=========================\n",
      "Doll: Porky Pig\n",
      "Total Price: 1500 taka\n",
      "Thank you!\n",
      "=========================\n",
      "Doll: Daffy Duck Bugs Bunny\n",
      "Total Price: 4800 taka\n",
      "Congratulations! You get the Tweety as a gift!\n"
     ]
    }
   ],
   "source": [
    "#Task_7\n",
    "class Dolls:\n",
    "  def __init__(self,doll,price):\n",
    "    self.__doll = doll\n",
    "    self.__price = price\n",
    "  def detail(self):\n",
    "    return \"Doll: {}\\nTotal Price: {} taka\".format(self.__doll,self.__price)\n",
    "  def __gt__(self,other):\n",
    "    if (self.__price > other.__price):\n",
    "      return True\n",
    "    else:\n",
    "      return False\n",
    "  def __add__(self,other):\n",
    "    doll = self.__doll+\" \"+other.__doll\n",
    "    price = self.__price + other.__price\n",
    "    return Dolls(doll,price)\n",
    "\n",
    "\n",
    "obj_1 = Dolls(\"Tweety\", 2500)\n",
    "print(obj_1.detail())\n",
    "if obj_1 > obj_1:\n",
    " print(\"Congratulations! You get the Tweety as a gift!\")\n",
    "else:\n",
    " print(\"Thank you!\")\n",
    "print(\"=========================\")\n",
    "obj_2 = Dolls(\"Daffy Duck\", 1800)\n",
    "print(obj_2.detail())\n",
    "if obj_2 > obj_1:\n",
    " print(\"Congratulations! You get the Tweety as a gift!\")\n",
    "else:\n",
    " print(\"Thank you!\")\n",
    "print(\"=========================\")\n",
    "obj_3 = Dolls(\"Bugs Bunny\", 3000)\n",
    "print(obj_3.detail())\n",
    "if obj_3 > obj_1:\n",
    " print(\"Congratulations! You get the Tweety as a gift!\")\n",
    "else:\n",
    " print(\"Thank you!\")\n",
    "print(\"=========================\")\n",
    "obj_4 = Dolls(\"Porky Pig\", 1500)\n",
    "print(obj_4.detail())\n",
    "if obj_4 > obj_1:\n",
    " print(\"Congratulations! You get the Tweety as a gift!\")\n",
    "else:\n",
    " print(\"Thank you!\")\n",
    "print(\"=========================\")\n",
    "obj_5 = obj_2 + obj_3\n",
    "print(obj_5.detail())\n",
    "if obj_5 > obj_1:\n",
    " print(\"Congratulations! You get the Tweety as a gift!\")\n",
    "else:\n",
    " print(\"Thank you!\")"
   ]
  },
  {
   "cell_type": "code",
   "execution_count": 26,
   "metadata": {
    "colab": {
     "base_uri": "https://localhost:8080/"
    },
    "id": "PFWzA4x4D1rS",
    "outputId": "bfdc023b-cc60-4816-9a8d-009697e07cdf"
   },
   "outputs": [
    {
     "name": "stdout",
     "output_type": "stream",
     "text": [
      "1\n",
      "2\n",
      "3\n",
      "4\n",
      "(-2,-2)\n",
      "(3,8)\n",
      "The calculated coordinates are NOT the same.\n"
     ]
    }
   ],
   "source": [
    "#Task_8\n",
    "class Coordinates:\n",
    "  def __init__(self,x,y):\n",
    "    self.__x = x\n",
    "    self.__y = y\n",
    "  def detail(self):\n",
    "    return '({},{})'.format(self.__x,self.__y)\n",
    "  def __sub__(self,other):\n",
    "    x = self.__x - other.__x\n",
    "    y = self.__y - other.__y\n",
    "    return Coordinates(x,y)\n",
    "  def __mul__(self,other):\n",
    "    x = self.__x * other.__x\n",
    "    y = self.__y * other.__y\n",
    "    return Coordinates(x,y)\n",
    "\n",
    "  def __eq__(self,other):\n",
    "    if (self.__x == other.__x and self.__y == other.__y):\n",
    "      return 'The calculated coordinates are the same.'\n",
    "    else:\n",
    "      return 'The calculated coordinates are NOT the same.'\n",
    "  \n",
    "p1 = Coordinates(int(input()),int(input()))\n",
    "p2 = Coordinates(int(input()),int(input()))\n",
    "p4 = p1 - p2\n",
    "print(p4.detail())\n",
    "p5 = p1 * p2\n",
    "print(p5.detail())\n",
    "point_check = (p4 == p5)\n",
    "print(point_check)"
   ]
  },
  {
   "cell_type": "markdown",
   "metadata": {
    "id": "EIvmYjxrHFxr"
   },
   "source": [
    "<center>Arrigato ❤ </center>"
   ]
  }
 ],
 "metadata": {
  "colab": {
   "name": "Assignment 05_20101534_Md Danial Islam.ipynb",
   "provenance": []
  },
  "kernelspec": {
   "display_name": "Python 3",
   "language": "python",
   "name": "python3"
  },
  "language_info": {
   "codemirror_mode": {
    "name": "ipython",
    "version": 3
   },
   "file_extension": ".py",
   "mimetype": "text/x-python",
   "name": "python",
   "nbconvert_exporter": "python",
   "pygments_lexer": "ipython3",
   "version": "3.8.8"
  }
 },
 "nbformat": 4,
 "nbformat_minor": 1
}
