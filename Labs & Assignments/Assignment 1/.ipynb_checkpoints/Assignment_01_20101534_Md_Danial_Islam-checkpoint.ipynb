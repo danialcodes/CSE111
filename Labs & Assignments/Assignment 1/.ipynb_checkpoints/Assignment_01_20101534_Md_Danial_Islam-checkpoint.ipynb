{
 "cells": [
  {
   "cell_type": "markdown",
   "metadata": {
    "id": "zdpI9t4b9kpp"
   },
   "source": [
    "---\n",
    "\n",
    "<center>\n",
    "CSE111</br>\n",
    "Lab Assignment no: <b>1</b> </br>\n",
    "Name: <b>Md. Danial Islam<b> </br>\n",
    "Id: <b>20101534</b> </br>\n",
    "Section: <b>1</b>\n",
    "</center>\n",
    "\n",
    "---\n",
    "\n",
    "\n",
    "\n"
   ]
  },
  {
   "cell_type": "markdown",
   "metadata": {
    "id": "cmMd7Ttb_lI7"
   },
   "source": [
    "<center> <h1> <b><u>String</u></b> </h1> </center>"
   ]
  },
  {
   "cell_type": "markdown",
   "metadata": {
    "id": "f_VGNABCVeM9"
   },
   "source": [
    "<pre> Problems\n",
    "    Task 4: Should I check the first apperance of both 'too' and 'good' individually?\n",
    "            Can't I just check the first apperance of only 'too good'?\n",
    "            (solved) Ans: Yes I Can\n",
    "</pre>"
   ]
  },
  {
   "cell_type": "code",
   "execution_count": null,
   "metadata": {
    "colab": {
     "base_uri": "https://localhost:8080/"
    },
    "id": "65ljF34Z9Yjo",
    "outputId": "16611c8f-ce98-4edf-95ff-05bcd778c4bc"
   },
   "outputs": [
    {
     "name": "stdout",
     "output_type": "stream",
     "text": [
      "HOUSE\n"
     ]
    }
   ],
   "source": [
    "#String Task 1\n",
    "#sample input => HOusE ApplE BaNaNa\n",
    "\n",
    "given_string = \"HOusE\" #I could also use input() to get the string from user input. But as the question says GIVEN, I use the hardcode way\n",
    "upper_count = 0\n",
    "lower_count = 0\n",
    "\n",
    "for char in given_string:\n",
    "  if char>='a' and char <='z':\n",
    "    lower_count+=1\n",
    "  elif char>='A' and char <='Z': #I could just use else, but prefer to use specific conditon\n",
    "    upper_count+=1\n",
    "\n",
    "if lower_count>=upper_count:\n",
    "  print(given_string.lower())\n",
    "else:\n",
    "  print(given_string.upper())"
   ]
  },
  {
   "cell_type": "code",
   "execution_count": null,
   "metadata": {
    "colab": {
     "base_uri": "https://localhost:8080/"
    },
    "id": "5hcWCSRxDMgT",
    "outputId": "214f7ff9-6b98-4203-a751-5724639cc32e"
   },
   "outputs": [
    {
     "name": "stdout",
     "output_type": "stream",
     "text": [
      "Hello\n",
      "WORD\n"
     ]
    }
   ],
   "source": [
    "#String Task 2\n",
    "#sample input => 213213 jhg231j213 Hello\n",
    "\n",
    "given_string = input() #As in the task 1 I use hardcode style, I just prefer to use input() here\n",
    "number_count = 0\n",
    "word_count = 0\n",
    "\n",
    "for char in given_string:\n",
    "  if (char>='a' and char <='z') or (char>='A' and char <='Z'):\n",
    "    word_count+=1\n",
    "  elif char>='0' and char <='1': #I could just use else, but prefer to use specific conditon\n",
    "    number_count+=1\n",
    "\n",
    "if number_count>0 and word_count>0:\n",
    "  print(\"MIXED\")\n",
    "elif number_count>0:\n",
    "  print(\"NUMBER\")\n",
    "elif word_count>0: #I could use else but there should be a last condition which will check if any input is given or not\n",
    "  print(\"WORD\")\n",
    "  \n",
    "# else:\n",
    "#   print(\"NO INPUT IS GIVEN\")"
   ]
  },
  {
   "cell_type": "code",
   "execution_count": null,
   "metadata": {
    "colab": {
     "base_uri": "https://localhost:8080/"
    },
    "id": "WKA5tyqxJMPV",
    "outputId": "87fcf9dc-5383-4dea-a441-612fd715ef35"
   },
   "outputs": [
    {
     "name": "stdout",
     "output_type": "stream",
     "text": [
      "baNgladEsh\n",
      "glad\n"
     ]
    }
   ],
   "source": [
    "#String Task 3\n",
    "#sample input => baNgladEsh coDIng\n",
    "\n",
    "given_string = input()\n",
    "upper_count = 0\n",
    "middle_word = ''\n",
    "\n",
    "for char in given_string:\n",
    "  if (upper_count==2):\n",
    "    break\n",
    "  if (upper_count > 0 and upper_count < 2):\n",
    "    if (char>='a' and char <='z'):\n",
    "      middle_word+=char\n",
    "  if (char>='A' and char <='Z'):\n",
    "    upper_count+=1\n",
    "\n",
    "if len(middle_word):\n",
    "  print(middle_word)\n",
    "else:\n",
    "  print(\"BLANK\")"
   ]
  },
  {
   "cell_type": "code",
   "execution_count": null,
   "metadata": {
    "colab": {
     "base_uri": "https://localhost:8080/"
    },
    "id": "_betUvqkO-Xs",
    "outputId": "02024c9b-739f-4c41-f87d-4a8f69446268"
   },
   "outputs": [
    {
     "name": "stdout",
     "output_type": "stream",
     "text": [
      "The book is not too good!\n",
      "The book is not excellent!\n"
     ]
    }
   ],
   "source": [
    "#String Task 4\n",
    "#sample input => The book is not too good! This book is good too!\n",
    "\n",
    "given_sentence = input()\n",
    "if 'too good' in given_sentence:\n",
    "  position = given_sentence.find(\"too\")\n",
    "  new_sentence = given_sentence[:position] + 'excellent' + given_sentence[position+8:]\n",
    "  print(new_sentence)\n",
    "else:\n",
    "  print(given_sentence)"
   ]
  },
  {
   "cell_type": "code",
   "execution_count": null,
   "metadata": {
    "colab": {
     "base_uri": "https://localhost:8080/"
    },
    "id": "AYYE1XiFDAtS",
    "outputId": "a45bf0a1-4cb2-45af-88d5-1a0a08fb4cbd"
   },
   "outputs": [
    {
     "name": "stdout",
     "output_type": "stream",
     "text": [
      "Please enter 1st String: hermione\n",
      "Please enter 2nd String: harry\n",
      "hrhrr\n"
     ]
    }
   ],
   "source": [
    "#String Task 5\n",
    "#sample input => dean tom harry hermione\n",
    "\n",
    "first_string =  input(\"Please enter 1st String: \")   #\"dean\"\n",
    "second_string =  input(\"Please enter 2nd String: \")  #\"tom\"\n",
    "new_string = ''\n",
    "\n",
    "for char in first_string:\n",
    "  if char in second_string:\n",
    "    new_string += char\n",
    "\n",
    "temp_string = str(new_string)\n",
    "\n",
    "for char in second_string:\n",
    "  if char in temp_string:\n",
    "    new_string+= char\n",
    "\n",
    "if (len(new_string)):\n",
    "  print(new_string)\n",
    "else:\n",
    "  print(\"Nothing in common.\")"
   ]
  },
  {
   "cell_type": "code",
   "execution_count": 7,
   "metadata": {
    "colab": {
     "base_uri": "https://localhost:8080/"
    },
    "id": "9MJsFsDlHXsS",
    "outputId": "b8fc6179-314f-4f79-e940-795d121a21df"
   },
   "outputs": [
    {
     "name": "stdout",
     "output_type": "stream",
     "text": [
      "Please enter a new password: ohMyBR@CU\n",
      "Digit missing\n"
     ]
    }
   ],
   "source": [
    "#String Task 6\n",
    "#sample input => ohMyBR@CU , ohmybracu , OhMyBR@CU20\n",
    "\n",
    "password = input(\"Please enter a new password: \")\n",
    "lower_count, upper_count, digit_count, special_count = (0,0,0,0)\n",
    "\n",
    "for char in password:\n",
    "  if char>='a' and char<='z':\n",
    "    lower_count+=1\n",
    "  elif char>='A' and char<='Z':\n",
    "    upper_count+=1\n",
    "  elif char>='0' and char<='9':\n",
    "    digit_count+=1\n",
    "  elif char in \"_$#@\":\n",
    "    special_count+=1\n",
    "\n",
    "\n",
    "if (lower_count>0 and upper_count>0 and digit_count>0 and special_count>0):\n",
    "  print(\"OK\")\n",
    "else:\n",
    "  missing = \"\"\n",
    "  if (lower_count==0):\n",
    "    missing +=\"Lowercase character missing, \" #used , and space to help my formating when printing\n",
    "  if (upper_count==0):\n",
    "    missing +=\"Uppercase character missing, \"\n",
    "  if (digit_count==0):\n",
    "    missing +=\"Digit missing, \"\n",
    "  if (special_count==0):\n",
    "    missing +=\"Special character missing, \"\n",
    "  \n",
    "  print(missing[:-2]) #as every time missing will get , and a space in the end, I remove it by slicing"
   ]
  },
  {
   "cell_type": "markdown",
   "metadata": {
    "id": "RTXjm9kTQUvr"
   },
   "source": [
    "<center> <h1> <b><u>List</u></b> </h1> </center>"
   ]
  },
  {
   "cell_type": "markdown",
   "metadata": {
    "id": "_JYLGguAW4pe"
   },
   "source": [
    "<pre> Problems\n",
    "    Task 1: What is the meaning of \"Do not print the frequency of numbers that were not given as input\" ?\n",
    "            (solved) Ans: TO restrict \n",
    "    Task 3: Should we take list items as user input or just hardcode with the given lists? \n",
    "            Also what we'll do if we get one item that is not number?\n",
    "            (solved) Ans: input should be taken ans string and then convert as list\n",
    "    Task 4: \n",
    "</pre>"
   ]
  },
  {
   "cell_type": "code",
   "execution_count": null,
   "metadata": {
    "colab": {
     "base_uri": "https://localhost:8080/"
    },
    "id": "HUDp7uj1QbeW",
    "outputId": "385364c2-5f8d-4145-d009-bdd6e3df5f0a"
   },
   "outputs": [
    {
     "name": "stdout",
     "output_type": "stream",
     "text": [
      "10\n",
      "20\n",
      "20\n",
      "30\n",
      "10\n",
      "50\n",
      "90\n",
      "STOP\n",
      "10 - 2 times\n",
      "20 - 2 times\n",
      "30 - 1 times\n",
      "50 - 1 times\n",
      "90 - 1 times\n"
     ]
    }
   ],
   "source": [
    "#List Task 1\n",
    "#sample input => \n",
    "\n",
    "num_list = []\n",
    "while True:\n",
    "  user_input = input()\n",
    "  if user_input == \"STOP\":\n",
    "    break\n",
    "  else:\n",
    "    num_list.append(user_input)\n",
    "\n",
    "temp_list =[]\n",
    "for item in num_list:\n",
    "  if item not in temp_list:\n",
    "    temp_list.append(item) #to get the unique numbers\n",
    "\n",
    "for item in temp_list:\n",
    "  count = num_list.count(item)\n",
    "  print(\"{} - {} times\".format(item,count))"
   ]
  },
  {
   "cell_type": "code",
   "execution_count": null,
   "metadata": {
    "colab": {
     "base_uri": "https://localhost:8080/"
    },
    "id": "xR7qMvTAXWMT",
    "outputId": "c36f4db4-b542-43af-89ed-8577feda9bd5"
   },
   "outputs": [
    {
     "name": "stdout",
     "output_type": "stream",
     "text": [
      "4\n",
      "10 11 12\n",
      "14 15 16\n",
      "7 8 9\n",
      "1 2 3\n",
      "45\n",
      "['14', '15', '16']\n"
     ]
    }
   ],
   "source": [
    "#List Task 2\n",
    "#sample input => 4, 1 2 3, 4 5 6, 10 11 12, 7 8 9\n",
    "\n",
    "highest_sum = 0\n",
    "list_of_highest_sum = []\n",
    "\n",
    "list_count = int(input())\n",
    "\n",
    "for i in range(list_count):\n",
    "  initial_list = input().split() # though it's kind of hard code. just assume that user will give input as like as showen in the sample\n",
    "  initial_highest_sum = 0\n",
    "\n",
    "  for item in initial_list:\n",
    "    initial_highest_sum +=int(item)\n",
    "\n",
    "  if initial_highest_sum > highest_sum:\n",
    "    highest_sum = initial_highest_sum\n",
    "    list_of_highest_sum = initial_list.copy()\n",
    "\n",
    "print(\"{}\\n{}\".format(highest_sum,list_of_highest_sum))"
   ]
  },
  {
   "cell_type": "code",
   "execution_count": 6,
   "metadata": {
    "colab": {
     "base_uri": "https://localhost:8080/"
    },
    "id": "vIOpHyxRdTFf",
    "outputId": "b46f9646-21b2-460c-f700-a9c2acc8db32"
   },
   "outputs": [
    {
     "name": "stdout",
     "output_type": "stream",
     "text": [
      "2 3 6\n",
      "3 4 5\n",
      "[6, 8, 10, 9, 12, 15, 18, 24, 30]\n"
     ]
    }
   ],
   "source": [
    "#List Task 3\n",
    "#sample input => 2 3 6 \\n 3 4 5\n",
    "\n",
    "#using hardcoding\n",
    "'''list_1 = [2,3,6]\n",
    "list_2 = [3,4,5]'''\n",
    "\n",
    "#taking lists items as user input\n",
    "temp_list_1 = input().split(\" \")\n",
    "temp_list_2 = input().split(\" \")\n",
    "\n",
    "list_1 = [int(char) for char in temp_list_1 ]\n",
    "list_2 = [int(char) for char in temp_list_2 ]\n",
    "\n",
    "\n",
    "\n",
    "#multiplication\n",
    "multiplicated_list =[]\n",
    "for i in list_1:\n",
    "  for j in list_2:\n",
    "    multiplicated_list.append(i*j)\n",
    "\n",
    "print(multiplicated_list)"
   ]
  },
  {
   "cell_type": "code",
   "execution_count": null,
   "metadata": {
    "colab": {
     "base_uri": "https://localhost:8080/"
    },
    "id": "LdB69Df__cDf",
    "outputId": "402a3031-c95a-4835-c40e-fab1ec1817a2"
   },
   "outputs": [
    {
     "name": "stdout",
     "output_type": "stream",
     "text": [
      "1 4 2 3\n",
      "UB Jumper\n",
      "2 1 4 6 10\n",
      "UB Jumper\n",
      "1 4 2 -1 6\n",
      "Not UB Jumper\n",
      "STOP\n"
     ]
    }
   ],
   "source": [
    "#List Task 4\n",
    "#sample input => 1 4 2 3 \\n 2 1 4 6 10 \\n 1 4 2 -1 6 \\n STOP\n",
    "\n",
    "import math\n",
    "\n",
    "while True:\n",
    "  temp = input()\n",
    "  if temp == 'STOP':\n",
    "    break\n",
    "  else:\n",
    "    list_of_num = [int(char) for char in temp.split(\" \") ]\n",
    "    abs_val_list = []\n",
    "\n",
    "    for i in range(len(list_of_num)):\n",
    "      first_item = list_of_num[i]\n",
    "      second_item = list_of_num[i+1]\n",
    "      abs_val_list.append(abs(first_item - second_item))\n",
    "      if i == len(list_of_num) - 2:\n",
    "        break\n",
    "\n",
    "    abs_val_list = sorted(abs_val_list)\n",
    "    ub_list = [x for x in range(1,len(list_of_num))]\n",
    "\n",
    "    if abs_val_list == ub_list:\n",
    "      print(\"UB Jumper\")\n",
    "    else:\n",
    "      print('Not UB Jumper')\n"
   ]
  },
  {
   "cell_type": "code",
   "execution_count": 5,
   "metadata": {
    "colab": {
     "base_uri": "https://localhost:8080/"
    },
    "id": "IBPtl6FEsYjJ",
    "outputId": "d4afd724-4bc1-49bd-8fc3-3eba126b1182"
   },
   "outputs": [
    {
     "name": "stdout",
     "output_type": "stream",
     "text": [
      "Bracu1234\n",
      "acruB1324\n"
     ]
    }
   ],
   "source": [
    "#List Task 5\n",
    "#sample input => Bracu1234\n",
    "\n",
    "alpanu = input()\n",
    "alpanu = sorted(alpanu)\n",
    "lwcase =''\n",
    "upcase = ''\n",
    "oddnum =''\n",
    "evennum = ''\n",
    "\n",
    "for char in alpanu:\n",
    "  if char >= 'a' and char <= 'z':\n",
    "    lwcase+=char\n",
    "  elif char >= 'A' and char <= 'Z':\n",
    "    upcase+=char\n",
    "  else:\n",
    "    if int(char) % 2 == 0:\n",
    "      evennum+=char\n",
    "    else:\n",
    "      oddnum+=char\n",
    "final_alpanu = lwcase + upcase + oddnum + evennum\n",
    "print(final_alpanu)"
   ]
  },
  {
   "cell_type": "code",
   "execution_count": 11,
   "metadata": {
    "colab": {
     "base_uri": "https://localhost:8080/"
    },
    "id": "xUsQSrWXyo2v",
    "outputId": "7753cd3f-7fff-495a-fc57-39a6a3f68823"
   },
   "outputs": [
    {
     "name": "stdout",
     "output_type": "stream",
     "text": [
      "6 5\n",
      "0 0 0 0 0 0\n",
      "2\n"
     ]
    }
   ],
   "source": [
    "#List Task 6\n",
    "#sample input =>5 2 \\n 0 4 5 1 0\n",
    "\n",
    "user_input = input()\n",
    "n = int(user_input[0])\n",
    "k = int(user_input[-1])\n",
    "user_input = input().split(' ')\n",
    "\n",
    "eligible_count = 0\n",
    "for times in user_input:\n",
    "  if int(times)+k <=5 :\n",
    "    eligible_count+=1\n",
    "print(eligible_count//3)\n"
   ]
  },
  {
   "cell_type": "markdown",
   "metadata": {
    "id": "Bgl7dEg41YkR"
   },
   "source": [
    "<center> <h1> <b><u>Dictionary and Tuple</u></b> </h1> </center>"
   ]
  },
  {
   "cell_type": "code",
   "execution_count": 4,
   "metadata": {
    "colab": {
     "base_uri": "https://localhost:8080/"
    },
    "id": "nrW3fe5K1gGR",
    "outputId": "ef72947b-2f44-4780-df8a-ab573dcfc264"
   },
   "outputs": [
    {
     "name": "stdout",
     "output_type": "stream",
     "text": [
      "a: 100, b: 100, c: 200, d: 300\n",
      "a: 300, b: 200, d: 400, e: 200\n",
      "{'a': 400, 'b': 300, 'c': 200, 'd': 700, 'e': 200}\n",
      "Values: (200, 300, 400, 700)\n"
     ]
    }
   ],
   "source": [
    "#Dictionary and Tuple Task 1\n",
    "#sample input =>a: 100, b: 100, c: 200, d: 300  \\n a: 300, b: 200, d: 400, e: 200\n",
    "\n",
    "dict_1 = input().split(\", \")  #\"a: 100, b: 100, c: 200, d: 300\".split(\", \") \n",
    "dict_2 = input().split(\", \")  #\"a: 300, b: 200, d: 400, e: 200\".split(\", \") \n",
    "final_dict ={}\n",
    "\n",
    "#print(dict_1,dict_2)\n",
    "\n",
    "for item in dict_1:\n",
    "  item = item.split(\": \")\n",
    "  #print(item)\n",
    "  final_dict[item[0]] = int(item[1])\n",
    "\n",
    "for item in dict_2:\n",
    "  item = item.split(\": \")\n",
    "  #print(item)\n",
    "  if item[0] not in final_dict.keys():\n",
    "    final_dict[item[0]] = int(item[1])\n",
    "  else:\n",
    "    final_dict[item[0]]+= int(item[1])\n",
    "\n",
    "temp_dict_values = []\n",
    "for item in final_dict.values():\n",
    "  if item not in temp_dict_values:\n",
    "    temp_dict_values.append(item)\n",
    "\n",
    "dict_values = tuple(sorted(temp_dict_values))\n",
    "print(\"{}\\nValues: {}\".format(final_dict, dict_values))"
   ]
  },
  {
   "cell_type": "code",
   "execution_count": 3,
   "metadata": {
    "id": "ZAP7z1TH5DZM"
   },
   "outputs": [
    {
     "name": "stdout",
     "output_type": "stream",
     "text": [
      "10\n",
      "20\n",
      "20\n",
      "10\n",
      "30\n",
      "4\n",
      "50\n",
      "60\n",
      "4\n",
      "STOP\n",
      "10 - 2 times\n",
      "20 - 2 times\n",
      "30 - 1 times\n",
      "4 - 2 times\n",
      "50 - 1 times\n",
      "60 - 1 times\n"
     ]
    }
   ],
   "source": [
    "#Dictionary and Tuple Task 2\n",
    "#sample input =>\n",
    "\n",
    "num_dict = {}\n",
    "while True:\n",
    "  user_input = input()\n",
    "  if user_input == \"STOP\":\n",
    "    break\n",
    "  else:\n",
    "    num_dict[user_input] = num_dict.get(user_input, 0 ) + 1\n",
    "    #print(num_dict)\n",
    "\n",
    "\n",
    "for k,v in num_dict.items():\n",
    "  print(\"{} - {} times\".format(k,v))"
   ]
  },
  {
   "cell_type": "code",
   "execution_count": null,
   "metadata": {
    "colab": {
     "base_uri": "https://localhost:8080/"
    },
    "id": "tN0Od7jBB2zD",
    "outputId": "d3596cdb-7f41-45ef-a8f2-500761ade628"
   },
   "outputs": [
    {
     "name": "stdout",
     "output_type": "stream",
     "text": [
      "a : 1, b : 2, c : 3, d : 2, e : 1\n",
      "{'1': ['a', 'e'], '2': ['b', 'd'], '3': ['c']}\n"
     ]
    }
   ],
   "source": [
    "#Dictionary and Tuple Task 3\n",
    "#sample input => key1 : value1, key2 : value2, key3 : value1\n",
    "\n",
    "# !!!! input should be given in format showen in sample input !!!\n",
    "reverse_dict = {}\n",
    "user_input = input().split(\", \") #\"key1 : value1, key2 : value2, key3 : value1\".split(\", \")\n",
    "for item in user_input:\n",
    "  item = item.split(\" : \")\n",
    "  reverse_dict[item[1]] = reverse_dict.get(item[1],[])\n",
    "  reverse_dict[item[1]].append(item[0])\n",
    "\n",
    "print(reverse_dict)"
   ]
  },
  {
   "cell_type": "code",
   "execution_count": null,
   "metadata": {
    "colab": {
     "base_uri": "https://localhost:8080/"
    },
    "id": "Le59dm9lJAr0",
    "outputId": "53dfe862-363c-4863-cd89-dbb91e96af01"
   },
   "outputs": [
    {
     "name": "stdout",
     "output_type": "stream",
     "text": [
      "live\n",
      "viel\n",
      "Those strings are anagrams.\n"
     ]
    }
   ],
   "source": [
    "#Dictionary and Tuple Task 3\n",
    "#sample input => evil \\n live\n",
    "\n",
    "str_1 = input()\n",
    "str_2 = input()\n",
    "\n",
    "dict_1 = {}\n",
    "dict_2 = {}\n",
    "\n",
    "for char in str_1:\n",
    "  dict_1[char] = dict_1.get(char,0)+1\n",
    "for char in str_2:\n",
    "  dict_2[char] = dict_2.get(char,0)+1\n",
    "\n",
    "if dict_1 == dict_2:\n",
    "  print(\"Those strings are anagrams.\")\n",
    "else:\n",
    "  print(\"Those strings are not anagrams.\")"
   ]
  },
  {
   "cell_type": "code",
   "execution_count": 1,
   "metadata": {
    "colab": {
     "base_uri": "https://localhost:8080/"
    },
    "id": "BCFXNwHCNHZy",
    "outputId": "95c4f029-e63c-43be-b1d8-91a8d4ea3d50"
   },
   "outputs": [
    {
     "name": "stdout",
     "output_type": "stream",
     "text": [
      "Hello, World!\n",
      "4433555555666110966677755531111\n"
     ]
    }
   ],
   "source": [
    "#Dictionary and Tuple Task 4\n",
    "#sample input => Hello, World!\n",
    "\n",
    "key_map = {'.':'1', ',':'11', '?':'111', '!':'1111', ':':'11111',\n",
    "           'A':'2','B':'22', 'C':'222',\n",
    "           'D':'3','E':'33', 'F':'333',\n",
    "           'G':'4','H':'44', 'I':'444',\n",
    "           'J':'5','K':'55', 'L':'555',\n",
    "           'M':'6','N':'66', 'O':'666',\n",
    "           'P':'7','Q':'77', 'R':'777','S':'7777',\n",
    "           'T':'8','U':'88', 'V':'888',\n",
    "           'W':'9','X':'99', 'Y':'999','Z':'9999',\n",
    "           ' ':'0'}\n",
    "           \n",
    "string = input().upper()\n",
    "result = ''\n",
    "for char in string:\n",
    "  result += key_map[char]\n",
    "print(result)"
   ]
  },
  {
   "cell_type": "markdown",
   "metadata": {
    "id": "0ZC49HHsYr9-"
   },
   "source": [
    "<center>Arrigato ❤ </center>"
   ]
  }
 ],
 "metadata": {
  "colab": {
   "name": "Assignment 01_20101534_Md. Danial Islam.ipynb",
   "provenance": []
  },
  "kernelspec": {
   "display_name": "Python 3",
   "language": "python",
   "name": "python3"
  },
  "language_info": {
   "codemirror_mode": {
    "name": "ipython",
    "version": 3
   },
   "file_extension": ".py",
   "mimetype": "text/x-python",
   "name": "python",
   "nbconvert_exporter": "python",
   "pygments_lexer": "ipython3",
   "version": "3.8.8"
  }
 },
 "nbformat": 4,
 "nbformat_minor": 1
}
