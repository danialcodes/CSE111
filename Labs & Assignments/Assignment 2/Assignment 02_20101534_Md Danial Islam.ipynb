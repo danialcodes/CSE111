{
  "nbformat": 4,
  "nbformat_minor": 0,
  "metadata": {
    "colab": {
      "name": "Assignment 02_20101534_Md. Danial Islam.ipynb",
      "provenance": []
    },
    "kernelspec": {
      "name": "python3",
      "display_name": "Python 3"
    },
    "language_info": {
      "name": "python"
    }
  },
  "cells": [
    {
      "cell_type": "markdown",
      "metadata": {
        "id": "JBiEtRo09I8x"
      },
      "source": [
        "---\n",
        "\n",
        "<center>\n",
        "CSE111</br>\n",
        "Lab Assignment no: <b>2</b> </br>\n",
        "Name: <b>Md. Danial Islam<b> </br>\n",
        "Id: <b>20101534</b> </br>\n",
        "Section: <b>1</b>\n",
        "</center>\n",
        "\n",
        "---\n",
        "\n",
        "\n",
        "\n"
      ]
    },
    {
      "cell_type": "markdown",
      "metadata": {
        "id": "oV4-tKB-9Xuv"
      },
      "source": [
        "<center> <h1> <b><u>\n",
        "Function</u></b> </h1> </center>"
      ]
    },
    {
      "cell_type": "code",
      "metadata": {
        "id": "R42Uwm0wZCh9",
        "colab": {
          "base_uri": "https://localhost:8080/"
        },
        "outputId": "90f38981-0072-4dd9-e0c7-7966133f8c38"
      },
      "source": [
        "#Task 1\n",
        "#sample input => (5, 2) \\n (5, 0) \\n (0, 5)\n",
        "\n",
        "def get_fraction(n,d):\n",
        "  if(d==0):\n",
        "    return 0\n",
        "  else:\n",
        "    return n/d - n // d\n",
        "\n",
        "print(get_fraction(5,2))"
      ],
      "execution_count": null,
      "outputs": [
        {
          "output_type": "stream",
          "text": [
            "0.5\n"
          ],
          "name": "stdout"
        }
      ]
    },
    {
      "cell_type": "code",
      "metadata": {
        "colab": {
          "base_uri": "https://localhost:8080/"
        },
        "id": "XKMG0x56_qlW",
        "outputId": "8ece3f47-222c-427b-bb79-54d8b879c00b"
      },
      "source": [
        "#Task 2\n",
        "#sample input => (175, 96) \\n (152, 48)\n",
        "\n",
        "def BMI(height, weight):\n",
        "  height /= 100\n",
        "  bmi =  (weight/ height**2)\n",
        "\n",
        "  if (bmi > 30 ):\n",
        "    print(\"Score is {:.1f}. You are Obese\".format(bmi))\n",
        "  elif (bmi >=25 and bmi <=30):\n",
        "    print(\"Score is {:.1f}. You are Overweight\".format(bmi))\n",
        "  elif (bmi >=18.5 and bmi <=24.9):\n",
        "    print(\"Score is {:.1f}. You are Normal\".format(bmi))\n",
        "  else:\n",
        "    print(\"Score is {:.1f}. You are Underweight\".format(bmi))\n",
        "\n",
        "BMI(152,48)"
      ],
      "execution_count": null,
      "outputs": [
        {
          "output_type": "stream",
          "text": [
            "Score is 20.8. You are Normal\n"
          ],
          "name": "stdout"
        }
      ]
    },
    {
      "cell_type": "code",
      "metadata": {
        "colab": {
          "base_uri": "https://localhost:8080/"
        },
        "id": "7hrdw9lwC_3j",
        "outputId": "e32e7537-5a50-4f99-a773-9ff206c3254d"
      },
      "source": [
        "#Task 3\n",
        "#sample input => (0, 10, 2) \\n (3, 16, 3)\n",
        "\n",
        "def div_add(min,max,div):\n",
        "  total = 0\n",
        "  for i in range(min,max):\n",
        "    if i%div==0:\n",
        "      total+=i\n",
        "  return total\n",
        "\n",
        "print(div_add(3, 16, 3))"
      ],
      "execution_count": null,
      "outputs": [
        {
          "output_type": "stream",
          "text": [
            "45\n"
          ],
          "name": "stdout"
        }
      ]
    },
    {
      "cell_type": "code",
      "metadata": {
        "colab": {
          "base_uri": "https://localhost:8080/"
        },
        "id": "T-DYqI6GEdlU",
        "outputId": "1dee72b6-550a-4f79-849b-2ddb17225b75"
      },
      "source": [
        "#Task 4\n",
        "#sample input =>(‘Beef Burger’, ‘Dhanmondi’)  \\n (‘Beef Burger’)\n",
        "\n",
        "\n",
        "def cal_total(item,place='Mohakhali'):\n",
        "  total_price = 0\n",
        "  meal_cost = 0\n",
        "\n",
        "  if (item == \"BBQ Chicken Cheese Burger\"):\n",
        "    meal_cost+=250\n",
        "  elif (item == \"Beef Burger\"):\n",
        "    meal_cost+=170\n",
        "  elif (item == \"Naga Drums\" ):\n",
        "    meal_cost+=200\n",
        "  \n",
        "  if (place.lower() == \"mohakhali\"):\n",
        "    delivery_charge = 40\n",
        "  else:\n",
        "    delivery_charge = 60\n",
        "  \n",
        "  tax = meal_cost * 8 / 100\n",
        "  total = meal_cost + delivery_charge + tax\n",
        "  print(total)\n",
        "\n",
        "\n",
        "cal_total('Beef Burger')"
      ],
      "execution_count": null,
      "outputs": [
        {
          "output_type": "stream",
          "text": [
            "223.6\n"
          ],
          "name": "stdout"
        }
      ]
    },
    {
      "cell_type": "code",
      "metadata": {
        "colab": {
          "base_uri": "https://localhost:8080/"
        },
        "id": "7CzzVRa4StVh",
        "outputId": "77db80a9-635b-449e-c303-79e291dd798b"
      },
      "source": [
        "#Task 5\n",
        "#sample input => ('alice@kaaj.com', 'sheba.xyz', 'kaaj.com') \\n ('bob@sheba.xyz', 'sheba.xyz')\n",
        "\n",
        "\n",
        "def replace_domain(to_check, new_domain, old_domain=\"kaaj.com\"):\n",
        "  old_email = to_check\n",
        "  to_check = to_check.split(\"@\")\n",
        "  if (to_check[1] != 'new_domain'):\n",
        "    to_check[1] = new_domain\n",
        "  new_email = to_check[0]+ \"@\" + to_check[1]\n",
        "  \n",
        "  if (new_email != old_email):\n",
        "    print(\"Changed: {}\".format(new_email))\n",
        "  else:\n",
        "    print(\"Unchanged: {}\".format(new_email))\n",
        "\n",
        "replace_domain('bob@sheba.xyz', 'sheba.xyz')"
      ],
      "execution_count": null,
      "outputs": [
        {
          "output_type": "stream",
          "text": [
            "Unchanged: bob@sheba.xyz\n"
          ],
          "name": "stdout"
        }
      ]
    },
    {
      "cell_type": "code",
      "metadata": {
        "colab": {
          "base_uri": "https://localhost:8080/"
        },
        "id": "vbMTkvebZUjm",
        "outputId": "066dee1e-2d12-4afb-b635-118837c8728b"
      },
      "source": [
        "#Task 6\n",
        "#sample input => Steve Jobs \\n XYZ\n",
        "\n",
        "def vowel_cheker(name):\n",
        "  string_of_vowels = 'aeiou'\n",
        "  found =''\n",
        "  count = 0\n",
        "  for char in name:\n",
        "    if char in string_of_vowels:\n",
        "      found+=char+\", \"\n",
        "      count+=1\n",
        "  \n",
        "  found = found[:-2]\n",
        "  if (count > 0):\n",
        "    print(\"Vowels: {}. Total number of vowels: {}\".format(found,count))\n",
        "  else:\n",
        "    print(\"No vowels in the name\")\n",
        "\n",
        "user_input = input()\n",
        "vowel_cheker(user_input)\n",
        "    "
      ],
      "execution_count": null,
      "outputs": [
        {
          "output_type": "stream",
          "text": [
            "Steve Jobs\n",
            "Vowels: e, e, o. Total number of vowels: 3\n"
          ],
          "name": "stdout"
        }
      ]
    },
    {
      "cell_type": "code",
      "metadata": {
        "colab": {
          "base_uri": "https://localhost:8080/"
        },
        "id": "KV68pht_cYXa",
        "outputId": "4d23d208-06cb-472c-f8f2-16f44bd5257c"
      },
      "source": [
        "#Task 7\n",
        "#sample input => 'madam' \\n 'hello' \\n 'nurses run'\n",
        "\n",
        "def check_palindrome(word):\n",
        "  reverse_word = ''\n",
        "  old_word = ''\n",
        "  \n",
        "  for i in range(len(word)):\n",
        "    if word[i] == ' ':\n",
        "      continue\n",
        "    else:\n",
        "      old_word += word[i]\n",
        "\n",
        "  for i in range(-1,-(len(old_word)+1),-1):\n",
        "    reverse_word += old_word[i]\n",
        "\n",
        "  if (old_word == reverse_word):\n",
        "    print(\"Palindrome\")\n",
        "  else:\n",
        "    print(\"Not a palindrome\")\n",
        "\n",
        "user_input = input()\n",
        "check_palindrome(user_input)\n"
      ],
      "execution_count": null,
      "outputs": [
        {
          "output_type": "stream",
          "text": [
            "madam\n",
            "Palindrome\n"
          ],
          "name": "stdout"
        }
      ]
    },
    {
      "cell_type": "code",
      "metadata": {
        "id": "Taf_KHz-gB5q",
        "colab": {
          "base_uri": "https://localhost:8080/"
        },
        "outputId": "06cfcdb4-74eb-46d8-fbe0-f91dcb61c9d3"
      },
      "source": [
        "#Task 8\n",
        "#sample input => 4320 \\n 4000 \n",
        "\n",
        "def expand_days(days):\n",
        "  if days >= 0:\n",
        "    year = days // 365\n",
        "    month = (days - (year * 365) ) // 30\n",
        "    day = (days - (year * 365) ) - (month * 30)\n",
        "\n",
        "    print(\"{} years, {} months and {} days\".format(year,month,day))\n",
        "\n",
        "days = int(input())\n",
        "expand_days(days)"
      ],
      "execution_count": null,
      "outputs": [
        {
          "output_type": "stream",
          "text": [
            "4000\n",
            "10 years, 11 months and 20 days\n"
          ],
          "name": "stdout"
        }
      ]
    },
    {
      "cell_type": "code",
      "metadata": {
        "colab": {
          "base_uri": "https://localhost:8080/"
        },
        "id": "_RqcI4ZdhtmR",
        "outputId": "7b78941a-2ec8-45f8-bed5-6448248e1ec1"
      },
      "source": [
        "#Task 9\n",
        "#sample input => my favourite animal is a dog. a dog has sharp teeth so that it can eat flesh very easily. do you know my pet dog’s name? i love my pet very much.\n",
        "\n",
        "def perfecto(sentences):\n",
        "  p= '.?!'\n",
        "  new = ''\n",
        "  space_c = 0\n",
        "  pun_c = 0\n",
        "\n",
        "  for i in range(len(sentences)):\n",
        "    if (i == 0):\n",
        "      new += sentences[i].upper()\n",
        "      continue\n",
        "    else:\n",
        "      if (sentences[i] in p):\n",
        "        pun_c +=1\n",
        "        new+= sentences[i]\n",
        "      elif (sentences[i] == \" \"):\n",
        "        space_c +=1\n",
        "        if (space_c > 1):\n",
        "          space_c = 0\n",
        "        new+= sentences[i]\n",
        "      \n",
        "      elif (pun_c == 1 and space_c == 1):\n",
        "        new+= sentences[i].upper()\n",
        "        pun_c = 0\n",
        "        space_c = 0\n",
        "      elif (space_c == 1 and sentences[i] == \"i\"):\n",
        "          if (sentences[i+1] == ' '):\n",
        "            new+= sentences[i].upper()\n",
        "          else:\n",
        "            new+= sentences[i]\n",
        "          space_c = 0\n",
        "          pun_c = 0\n",
        "      else:\n",
        "        new+= sentences[i]\n",
        "        space_c = 0\n",
        "        pun_c = 0\n",
        "\n",
        "  return new\n",
        "\n",
        "user_input = input()\n",
        "print(perfecto(user_input))"
      ],
      "execution_count": null,
      "outputs": [
        {
          "output_type": "stream",
          "text": [
            "my favourite animal is a dog. a dog has sharp teeth so that it can eat flesh very easily. do you know my pet dog’s name? i love my pet very much.\n",
            "My favourite animal is a dog. A dog has sharp teeth so that it can eat flesh very easily. Do you know my pet dog’s name? I love my pet very much.\n"
          ],
          "name": "stdout"
        }
      ]
    },
    {
      "cell_type": "markdown",
      "metadata": {
        "id": "ynM4ueWQBkjX"
      },
      "source": [
        "<center> Arrigatto ❤ </center>"
      ]
    }
  ]
}