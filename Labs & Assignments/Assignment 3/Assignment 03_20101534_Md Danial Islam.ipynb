{
  "nbformat": 4,
  "nbformat_minor": 0,
  "metadata": {
    "colab": {
      "name": "Assignment 03_20101534_Md Danial Islam.ipynb",
      "provenance": []
    },
    "kernelspec": {
      "name": "python3",
      "display_name": "Python 3"
    },
    "language_info": {
      "name": "python"
    }
  },
  "cells": [
    {
      "cell_type": "markdown",
      "metadata": {
        "id": "ZezdqYDvE1aH"
      },
      "source": [
        "---\n",
        "\n",
        "<center>\n",
        "CSE111</br>\n",
        "Lab Assignment no: <b>3</b> </br>\n",
        "Name: <b>Md. Danial Islam<b> </br>\n",
        "Id: <b>20101534</b> </br>\n",
        "Section: <b>1</b>\n",
        "</center>\n",
        "\n",
        "---\n",
        "\n",
        "\n",
        "\n"
      ]
    },
    {
      "cell_type": "code",
      "metadata": {
        "id": "Zt6ax3ZGE0IJ",
        "colab": {
          "base_uri": "https://localhost:8080/"
        },
        "outputId": "230fde53-0135-4f46-dfe3-455891861b00"
      },
      "source": [
        "#Question 1\n",
        "#subtask_1\n",
        "class DataType:\n",
        "  def __init__(self,name,value):\n",
        "    #subtask_2\n",
        "    self.name = name\n",
        "    self.value = value\n",
        "\n",
        "data_type1 = DataType('Integer', 1234)\n",
        "print(data_type1.name)\n",
        "print(data_type1.value)\n",
        "print('=====================')\n",
        "data_type2 = DataType('String', 'Hello')\n",
        "print(data_type2.name)\n",
        "print(data_type2.value)\n",
        "print('=====================')\n",
        "data_type3 = DataType('Float', 4.0)\n",
        "print(data_type3.name)\n",
        "print(data_type3.value)"
      ],
      "execution_count": 2,
      "outputs": [
        {
          "output_type": "stream",
          "text": [
            "Integer\n",
            "1234\n",
            "=====================\n",
            "String\n",
            "Hello\n",
            "=====================\n",
            "Float\n",
            "4.0\n"
          ],
          "name": "stdout"
        }
      ]
    },
    {
      "cell_type": "code",
      "metadata": {
        "colab": {
          "base_uri": "https://localhost:8080/"
        },
        "id": "js2flDZMXPI8",
        "outputId": "16cd7179-0e8a-4dd8-8b02-2e38c8789e7e"
      },
      "source": [
        "#Question 2\n",
        "#subtask_1\n",
        "class Flower:\n",
        "  def __init__(self):\n",
        "    self.name = ''\n",
        "    self.color = ''\n",
        "    self.num_of_petal = ''\n",
        "    \n",
        "flower1 = Flower()\n",
        "flower1.name=\"Rose\"\n",
        "flower1.color=\"Red\"\n",
        "flower1.num_of_petal=6\n",
        "print(\"Name of this flower:\", flower1.name)\n",
        "print(\"Color of this flower:\",flower1.color)\n",
        "print(\"Number of petal:\",flower1.num_of_petal)\n",
        "print(\"=====================\")\n",
        "flower2 = Flower()\n",
        "flower2.name=\"Orchid\"\n",
        "flower2.color=\"Purple\"\n",
        "flower2.num_of_petal=4\n",
        "print(\"Name of this flower:\",flower2.name)\n",
        "print(\"Color of this flower:\",flower2.color)\n",
        "print (\"Number of petal:\",flower2. num_of_petal)\n",
        "#subtask_2\n",
        "print(flower1)\n",
        "print(flower2)\n",
        "#subtask_3\n",
        "print('they are different')"
      ],
      "execution_count": 31,
      "outputs": [
        {
          "output_type": "stream",
          "text": [
            "Name of this flower: Rose\n",
            "Color of this flower: Red\n",
            "Number of petal: 6\n",
            "=====================\n",
            "Name of this flower: Orchid\n",
            "Color of this flower: Purple\n",
            "Number of petal: 4\n",
            "<__main__.Flower object at 0x7efc54a11490>\n",
            "<__main__.Flower object at 0x7efc54a11450>\n",
            "they are different\n"
          ],
          "name": "stdout"
        }
      ]
    },
    {
      "cell_type": "code",
      "metadata": {
        "colab": {
          "base_uri": "https://localhost:8080/"
        },
        "id": "Qf7X3OOfitea",
        "outputId": "598d6fb8-44bf-435b-d4fd-ddaabaf5511b"
      },
      "source": [
        "#Question 3\n",
        "class Wadiya():\n",
        "  def __init__(self):\n",
        "    self.name = 'Aladeen'\n",
        "    self.designation = 'President Prime Minister Admiral General'\n",
        "    self.num_of_wife = 100\n",
        "    self.dictator = True\n",
        "#sorry but I prefer to use function\n",
        "def Wadiya_zindabad(name,designation,num_of_wife,dictator):\n",
        "  print(\"Name of President: \",name)\n",
        "  print(\"Designation: \",designation)\n",
        "  print(\"Number of wife: \",num_of_wife)\n",
        "  print(\"Is he/she a dictator: \",dictator)\n",
        "\n",
        "#subtask_1\n",
        "wadiya = Wadiya()\n",
        "#past_1\n",
        "print(\"Part 1:\")\n",
        "#subtask_2\n",
        "Wadiya_zindabad(wadiya.name,wadiya.designation,wadiya.num_of_wife,wadiya.dictator)\n",
        "# print(\"Name of President: \",wadiya.name)\n",
        "# print(\"Designation: \",wadiya.designation)\n",
        "# print(\"Number of wife: \",wadiya.num_of_wife)\n",
        "# print(\"Is he/she a dictator: \",wadiya.dictator)\n",
        "\n",
        "#part_2\n",
        "print(\"Part 2:\")\n",
        "#subtask_3\n",
        "wadiya.name = \"Donald Trump\"\n",
        "wadiya.designation = \"President\"\n",
        "wadiya.num_of_wife = 1\n",
        "wadiya.dictator = False\n",
        "\n",
        "Wadiya_zindabad(wadiya.name,wadiya.designation,wadiya.num_of_wife,wadiya.dictator)\n",
        "\n",
        "#subtask_4\n",
        "print(\"previous information lost\")"
      ],
      "execution_count": 32,
      "outputs": [
        {
          "output_type": "stream",
          "text": [
            "Part 1:\n",
            "Name of President:  Aladeen\n",
            "Designation:  President Prime Minister Admiral General\n",
            "Number of wife:  100\n",
            "Is he/she a dictator:  True\n",
            "Part 2:\n",
            "Name of President:  Donald Trump\n",
            "Designation:  President\n",
            "Number of wife:  1\n",
            "Is he/she a dictator:  False\n",
            "previous information lost\n"
          ],
          "name": "stdout"
        }
      ]
    },
    {
      "cell_type": "code",
      "metadata": {
        "colab": {
          "base_uri": "https://localhost:8080/"
        },
        "id": "B9P81a8wrsnI",
        "outputId": "7de686be-a1c5-41e9-c8c1-f51054c682d0"
      },
      "source": [
        "#Question 4\n",
        "#subtask_1\n",
        "class Joker:\n",
        "  def __init__(self,name,power,is_he_psycho):\n",
        "    self.name = name\n",
        "    self.power = power\n",
        "    self.is_he_psycho = is_he_psycho\n",
        "\n",
        "j1 = Joker('Heath Ledger', 'Mind Game', False)\n",
        "print(j1.name)\n",
        "print(j1.power)\n",
        "print(j1.is_he_psycho)\n",
        "print(\"=====================\")\n",
        "j2 = Joker('Joaquin Phoenix', 'Laughing out Loud', True)\n",
        "print(j2.name)\n",
        "print(j2.power)\n",
        "print(j2.is_he_psycho)\n",
        "print(\"=====================\")\n",
        "if j1 == j2:\n",
        "  print('same')\n",
        "else:\n",
        "  print('different')\n",
        "j2.name = 'Heath Ledger'\n",
        "if j1.name == j2.name:\n",
        "  print('same')\n",
        "else:\n",
        "  print('different')\n",
        "#subtask_2\n",
        "print('They are different because they are different objects of the Joker class. And it will mainly check their memory location which are different')\n",
        "#subtask_3\n",
        "print('It is same because previously we changed the j2.name same as j1.name')"
      ],
      "execution_count": 16,
      "outputs": [
        {
          "output_type": "stream",
          "text": [
            "Heath Ledger\n",
            "Mind Game\n",
            "False\n",
            "=====================\n",
            "Joaquin Phoenix\n",
            "Laughing out Loud\n",
            "True\n",
            "=====================\n",
            "different\n",
            "same\n",
            "They are different because they are different objects of the Joker class. And it will mainly check their memory location which are different\n",
            "It is same because previously we changed the j2.name same as j1.name\n"
          ],
          "name": "stdout"
        }
      ]
    },
    {
      "cell_type": "code",
      "metadata": {
        "colab": {
          "base_uri": "https://localhost:8080/"
        },
        "id": "xitIAjMkuhjh",
        "outputId": "ef1cbeab-c918-40f8-b927-1887df29ef01"
      },
      "source": [
        "#Question 5\n",
        "#subtask_1\n",
        "class Pokemon:\n",
        "  def __init__(self,pokemon1_name,pokemon2_name,pokemon1_power,pokemon2_power,damage_rate):\n",
        "    self.pokemon1_name = pokemon1_name\n",
        "    self.pokemon2_name = pokemon2_name\n",
        "    self.pokemon1_power = pokemon1_power\n",
        "    self.pokemon2_power = pokemon2_power\n",
        "    self.damage_rate = damage_rate\n",
        "\n",
        "\n",
        "team_pika = Pokemon('pikachu', 'charmander', 90, 60, 10)\n",
        "print('=======Team 1=======')\n",
        "print('Pokemon 1:',team_pika.pokemon1_name,\n",
        "team_pika.pokemon1_power)\n",
        "print('Pokemon 2:',team_pika.pokemon2_name,\n",
        "team_pika.pokemon2_power)\n",
        "pika_combined_power = (team_pika.pokemon1_power +\n",
        "team_pika.pokemon2_power) * team_pika.damage_rate\n",
        "print('Combined Power:', pika_combined_power)\n",
        "\n",
        "#subtask_2\n",
        "team_bulb = Pokemon('bulbasaur', 'squirtle', 80, 70, 9)\n",
        "#subtask_3\n",
        "print('=======Team 2=======')\n",
        "print('Pokemon 1:',team_bulb.pokemon1_name,\n",
        "team_bulb.pokemon1_power)\n",
        "print('Pokemon 2:',team_bulb.pokemon2_name,\n",
        "team_bulb.pokemon2_power)\n",
        "bulb_combined_power = (team_bulb.pokemon1_power +\n",
        "team_bulb.pokemon2_power) * team_bulb.damage_rate\n",
        "print('Combined Power:', bulb_combined_power)"
      ],
      "execution_count": 18,
      "outputs": [
        {
          "output_type": "stream",
          "text": [
            "=======Team 1=======\n",
            "Pokemon 1: pikachu 90\n",
            "Pokemon 2: charmander 60\n",
            "Combined Power: 1500\n",
            "=======Team 2=======\n",
            "Pokemon 1: bulbasaur 80\n",
            "Pokemon 2: squirtle 70\n",
            "Combined Power: 1350\n"
          ],
          "name": "stdout"
        }
      ]
    },
    {
      "cell_type": "code",
      "metadata": {
        "colab": {
          "base_uri": "https://localhost:8080/"
        },
        "id": "fkgC5-yfxhwi",
        "outputId": "03637330-565e-4760-b5d5-bf1f9ff0d583"
      },
      "source": [
        "#Question 6\n",
        "class Player:\n",
        "  def __init__(self):\n",
        "    self.name = ''\n",
        "    self.jersy_number = ''\n",
        "    self.position = ''\n",
        "\n",
        "player1 = Player()\n",
        "player1.name = \"Ronaldo\"\n",
        "player1.jersy_number = 9\n",
        "player1.position = \"Striker\"\n",
        "print(\"Name of the Player:\", player1.name)\n",
        "print(\"Jersey Number of player:\", player1.jersy_number)\n",
        "print(\"Position of player:\", player1.position)\n",
        "print(\"===========================\")\n",
        "player2 = Player()\n",
        "player2.name = \"Neuer\"\n",
        "player2.jersy_number = 1\n",
        "player2.position = \"Goal Keeper\"\n",
        "print(\"Name of the player:\", player2.name)\n",
        "print(\"Jersey Number of player:\", player2.jersy_number)\n",
        "print(\"Position of player:\", player2.position)"
      ],
      "execution_count": 23,
      "outputs": [
        {
          "output_type": "stream",
          "text": [
            "Name of the Player: Ronaldo\n",
            "Jersey Number of player: 9\n",
            "Position of player: Striker\n",
            "===========================\n",
            "Name of the player: Neuer\n",
            "Jersey Number of player: 1\n",
            "Position of player: Goal Keeper\n"
          ],
          "name": "stdout"
        }
      ]
    },
    {
      "cell_type": "code",
      "metadata": {
        "colab": {
          "base_uri": "https://localhost:8080/"
        },
        "id": "zJjHSjY6yySp",
        "outputId": "ac152b7a-7920-439b-e299-eeb5d556f365"
      },
      "source": [
        "#Question 7\n",
        "class Country:\n",
        "  def __init__(self):\n",
        "    self.name = \"Bangladesh\"\n",
        "    self.continent = \"Asia\"\n",
        "    self.capital = \"Dhaka\"\n",
        "    self.fifa_ranking = 187\n",
        "country = Country()\n",
        "print('Name:',country.name)\n",
        "print('Continent:',country.continent)\n",
        "print('Capital:',country.capital)\n",
        "print('Fifa Ranking:',country.fifa_ranking)\n",
        "print('===================')\n",
        "country.name = \"Belgium\"\n",
        "country.continent = \"Europe\"\n",
        "country.capital = \"Brussels\"\n",
        "country.fifa_ranking = 1\n",
        "print('Name:',country.name)\n",
        "print('Continent:',country.continent)\n",
        "print('Capital:',country.capital)\n",
        "print('Fifa Ranking:',country.fifa_ranking)"
      ],
      "execution_count": 26,
      "outputs": [
        {
          "output_type": "stream",
          "text": [
            "Name: Bangladesh\n",
            "Continent: Asia\n",
            "Capital: Dhaka\n",
            "Fifa Ranking: 187\n",
            "===================\n",
            "Name: Belgium\n",
            "Continent: Europe\n",
            "Capital: Brussels\n",
            "Fifa Ranking: 1\n"
          ],
          "name": "stdout"
        }
      ]
    },
    {
      "cell_type": "code",
      "metadata": {
        "colab": {
          "base_uri": "https://localhost:8080/"
        },
        "id": "WppDbhYszsKZ",
        "outputId": "09a2f878-a364-4842-e540-ccb6f211dfd8"
      },
      "source": [
        "#Question 8\n",
        "class DemonSlayer:\n",
        "  def __init__(self,name,style,number_of_technique,kill):\n",
        "    self.name = name\n",
        "    self.style = style\n",
        "    self.number_of_technique = number_of_technique\n",
        "    self.kill = kill\n",
        "\n",
        "tanjiro = DemonSlayer(\"Tanjiro\", \"Water Breathing\", 10, 10)\n",
        "print('Name:',tanjiro.name)\n",
        "print('Fighting Style:',tanjiro.style)\n",
        "print(f'Knows {tanjiro.number_of_technique} technique(s) and has killed {tanjiro.kill} demon(s)')\n",
        "print('===================')\n",
        "zenitsu = DemonSlayer(\"Zenitsu\", \"Thunder Breathing\", 1, 4)\n",
        "print('Name:',zenitsu.name)\n",
        "print('Fighting Style:',zenitsu.style)\n",
        "print(f'Knows {zenitsu.number_of_technique} technique(s) and has killed {zenitsu.kill} demon(s)')\n",
        "print('===================')\n",
        "inosuke = DemonSlayer(\"Inosuke\", \"Beast Breathing\", 5, 7)\n",
        "print('Name:',inosuke.name)\n",
        "print('Fighting Style:',inosuke.style)\n",
        "print(f'Knows {inosuke.number_of_technique} technique(s) and has killed {inosuke.kill} demon(s)')\n",
        "print('===================')\n",
        "print(f'{tanjiro.name}, {zenitsu.name}, {inosuke.name} knows total {tanjiro.number_of_technique + zenitsu.number_of_technique + inosuke.number_of_technique} techniques')\n",
        "print(f'They have killed total {tanjiro.kill + zenitsu.kill + inosuke.kill} demons')"
      ],
      "execution_count": 28,
      "outputs": [
        {
          "output_type": "stream",
          "text": [
            "Name: Tanjiro\n",
            "Fighting Style: Water Breathing\n",
            "Knows 10 technique(s) and has killed 10 demon(s)\n",
            "===================\n",
            "Name: Zenitsu\n",
            "Fighting Style: Thunder Breathing\n",
            "Knows 1 technique(s) and has killed 4 demon(s)\n",
            "===================\n",
            "Name: Inosuke\n",
            "Fighting Style: Beast Breathing\n",
            "Knows 5 technique(s) and has killed 7 demon(s)\n",
            "===================\n",
            "Tanjiro, Zenitsu, Inosuke knows total 16 techniques\n",
            "They have killed total 21 demons\n"
          ],
          "name": "stdout"
        }
      ]
    },
    {
      "cell_type": "markdown",
      "metadata": {
        "id": "nqSQKO0A2YXA"
      },
      "source": [
        "<center>Arrigatto ❤ </center>"
      ]
    }
  ]
}