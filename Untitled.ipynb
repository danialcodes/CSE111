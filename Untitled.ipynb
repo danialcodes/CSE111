{
 "cells": [
  {
   "cell_type": "code",
   "execution_count": 1,
   "id": "97235f26",
   "metadata": {},
   "outputs": [
    {
     "ename": "AttributeError",
     "evalue": "'super' object has no attribute 'agentCount'",
     "output_type": "error",
     "traceback": [
      "\u001b[1;31m---------------------------------------------------------------------------\u001b[0m",
      "\u001b[1;31mAttributeError\u001b[0m                            Traceback (most recent call last)",
      "\u001b[1;32m<ipython-input-1-ef74b813b7c1>\u001b[0m in \u001b[0;36m<module>\u001b[1;34m\u001b[0m\n\u001b[0;32m     45\u001b[0m \u001b[1;31m#Do not change the given code\u001b[0m\u001b[1;33m\u001b[0m\u001b[1;33m\u001b[0m\u001b[1;33m\u001b[0m\u001b[0m\n\u001b[0;32m     46\u001b[0m \u001b[0mv\u001b[0m \u001b[1;33m=\u001b[0m \u001b[0mValorant\u001b[0m\u001b[1;33m(\u001b[0m\u001b[1;34m\"Valorant\"\u001b[0m\u001b[1;33m,\u001b[0m\u001b[1;34m\"FPS\"\u001b[0m\u001b[1;33m)\u001b[0m\u001b[1;33m\u001b[0m\u001b[1;33m\u001b[0m\u001b[0m\n\u001b[1;32m---> 47\u001b[1;33m \u001b[0mv\u001b[0m\u001b[1;33m.\u001b[0m\u001b[0maddAgent\u001b[0m\u001b[1;33m(\u001b[0m\u001b[1;33m[\u001b[0m\u001b[1;34m\"Raze\"\u001b[0m\u001b[1;33m,\u001b[0m\u001b[1;34m\"Duelist\"\u001b[0m\u001b[1;33m,\u001b[0m\u001b[1;34m\"Showstopper\"\u001b[0m\u001b[1;33m]\u001b[0m\u001b[1;33m,\u001b[0m\u001b[1;33m[\u001b[0m\u001b[1;34m\"Sova\"\u001b[0m\u001b[1;33m,\u001b[0m\u001b[1;34m\"Initiator\"\u001b[0m\u001b[1;33m,\u001b[0m\u001b[1;34m\"Hunter's fury\"\u001b[0m\u001b[1;33m]\u001b[0m\u001b[1;33m)\u001b[0m\u001b[1;33m\u001b[0m\u001b[1;33m\u001b[0m\u001b[0m\n\u001b[0m\u001b[0;32m     48\u001b[0m \u001b[0mprint\u001b[0m\u001b[1;33m(\u001b[0m\u001b[1;34m\"1.====================================\"\u001b[0m\u001b[1;33m)\u001b[0m\u001b[1;33m\u001b[0m\u001b[1;33m\u001b[0m\u001b[0m\n\u001b[0;32m     49\u001b[0m \u001b[0mprint\u001b[0m\u001b[1;33m(\u001b[0m\u001b[0mv\u001b[0m\u001b[1;33m)\u001b[0m\u001b[1;33m\u001b[0m\u001b[1;33m\u001b[0m\u001b[0m\n",
      "\u001b[1;32m<ipython-input-1-ef74b813b7c1>\u001b[0m in \u001b[0;36maddAgent\u001b[1;34m(self, *agents)\u001b[0m\n\u001b[0;32m     21\u001b[0m   \u001b[1;32mdef\u001b[0m \u001b[0maddAgent\u001b[0m\u001b[1;33m(\u001b[0m\u001b[0mself\u001b[0m\u001b[1;33m,\u001b[0m\u001b[1;33m*\u001b[0m\u001b[0magents\u001b[0m\u001b[1;33m)\u001b[0m\u001b[1;33m:\u001b[0m\u001b[1;33m\u001b[0m\u001b[1;33m\u001b[0m\u001b[0m\n\u001b[0;32m     22\u001b[0m     \u001b[1;32mfor\u001b[0m \u001b[0magent\u001b[0m \u001b[1;32min\u001b[0m \u001b[0magents\u001b[0m\u001b[1;33m:\u001b[0m\u001b[1;33m\u001b[0m\u001b[1;33m\u001b[0m\u001b[0m\n\u001b[1;32m---> 23\u001b[1;33m       \u001b[0msuper\u001b[0m\u001b[1;33m(\u001b[0m\u001b[1;33m)\u001b[0m\u001b[1;33m.\u001b[0m\u001b[0magentCount\u001b[0m \u001b[1;33m+=\u001b[0m\u001b[1;36m1\u001b[0m\u001b[1;33m\u001b[0m\u001b[1;33m\u001b[0m\u001b[0m\n\u001b[0m\u001b[0;32m     24\u001b[0m       \u001b[1;32mif\u001b[0m \u001b[1;33m(\u001b[0m\u001b[0magent\u001b[0m\u001b[1;33m[\u001b[0m\u001b[1;36m1\u001b[0m\u001b[1;33m]\u001b[0m \u001b[1;32mnot\u001b[0m \u001b[1;32min\u001b[0m \u001b[0mself\u001b[0m\u001b[1;33m.\u001b[0m\u001b[0magents\u001b[0m\u001b[1;33m.\u001b[0m\u001b[0mkeys\u001b[0m\u001b[1;33m(\u001b[0m\u001b[1;33m)\u001b[0m\u001b[1;33m)\u001b[0m\u001b[1;33m:\u001b[0m\u001b[1;33m\u001b[0m\u001b[1;33m\u001b[0m\u001b[0m\n\u001b[0;32m     25\u001b[0m         \u001b[0mself\u001b[0m\u001b[1;33m.\u001b[0m\u001b[0magents\u001b[0m\u001b[1;33m[\u001b[0m\u001b[0magent\u001b[0m\u001b[1;33m[\u001b[0m\u001b[1;36m1\u001b[0m\u001b[1;33m]\u001b[0m\u001b[1;33m]\u001b[0m \u001b[1;33m=\u001b[0m \u001b[1;33m[\u001b[0m\u001b[1;33m[\u001b[0m\u001b[0magent\u001b[0m\u001b[1;33m[\u001b[0m\u001b[1;36m0\u001b[0m\u001b[1;33m]\u001b[0m\u001b[1;33m,\u001b[0m\u001b[0magent\u001b[0m\u001b[1;33m[\u001b[0m\u001b[1;36m2\u001b[0m\u001b[1;33m]\u001b[0m\u001b[1;33m]\u001b[0m\u001b[1;33m]\u001b[0m\u001b[1;33m\u001b[0m\u001b[1;33m\u001b[0m\u001b[0m\n",
      "\u001b[1;31mAttributeError\u001b[0m: 'super' object has no attribute 'agentCount'"
     ]
    }
   ],
   "source": [
    "#Task_3\n",
    "class Game:\n",
    "  agentCount=0\n",
    "  def __init__(self,name,gameType):\n",
    "    self.name = name\n",
    "    self.gameType = gameType\n",
    "  def formTeam(self):\n",
    "    if Game.agentCount >= 5:\n",
    "      return True\n",
    "    else:\n",
    "      return False\n",
    "  def __str__(self):\n",
    "    s = f\"{self.name} is an {self.gameType} game.\\n\"\n",
    "    s+= f\"Number of agents in {self.name} is {Game.agentCount}\\n\"\n",
    "    return s\n",
    "#Write down your code here.\n",
    "class Valorant(Game):\n",
    "  def __init__(self,name,gameType):\n",
    "    super().__init__(name,gameType)\n",
    "    self.agents = {}\n",
    "  def addAgent(self,*agents):\n",
    "    for agent in agents:\n",
    "      super().agentCount +=1\n",
    "      if (agent[1] not in self.agents.keys()):\n",
    "        self.agents[agent[1]] = [[agent[0],agent[2]]]\n",
    "      else:\n",
    "        self.agents[agent[1]].append([agent[0],agent[2]])\n",
    "  def __str__(self):\n",
    "    returnable = \"Valorant is an FPS game.\\nNumber of agents in Valorant is {}\\nThe agents are:\\n\".format(len(self.agents))\n",
    "    for k,v in self.agents.items():\n",
    "      returnable+= k +':\\n'\n",
    "      for agent in v:\n",
    "        returnable+='Agent name: {}, Ultimate:{}\\n'.format(v[0][0],v[0][1])\n",
    "    return returnable[:-1]\n",
    "  def formTeam(self):\n",
    "    if (super().formTeam()):\n",
    "      pass\n",
    "    else:\n",
    "      print(\"We do not have enough agents to form a team.\")\n",
    "\n",
    "      \n",
    "\n",
    "\n",
    "\n",
    "#Do not change the given code\n",
    "v = Valorant(\"Valorant\",\"FPS\")\n",
    "v.addAgent([\"Raze\",\"Duelist\",\"Showstopper\"],[\"Sova\",\"Initiator\",\"Hunter's fury\"])\n",
    "print(\"1.====================================\")\n",
    "print(v)\n",
    "print(\"2.====================================\")\n",
    "v.formTeam()\n",
    "print(\"3.====================================\")\n",
    "v.addAgent([\"Killjoy\",\"Sentinel\",\"Lockdown\"])\n",
    "v.addAgent([\"Viper\",\"Controller\",\"Viper's pit\"])\n",
    "print(\"4.====================================\")\n",
    "print(v)\n",
    "print(\"5.====================================\")\n",
    "v.formTeam()\n",
    "print(\"6.====================================\")\n",
    "v.addAgent([\"Breach\",\"Initiator\",\"Rolling thunder\"])\n",
    "v.formTeam()\n",
    "print(\"7.====================================\")\n",
    "v.addAgent([\"Jett\",\"Duelist\",\"Bladestorm\"])\n",
    "print(v)\n",
    "print(\"8.====================================\")\n",
    "v.formTeam()"
   ]
  },
  {
   "cell_type": "code",
   "execution_count": null,
   "id": "7ae0abf5",
   "metadata": {},
   "outputs": [],
   "source": []
  }
 ],
 "metadata": {
  "kernelspec": {
   "display_name": "Python 3",
   "language": "python",
   "name": "python3"
  },
  "language_info": {
   "codemirror_mode": {
    "name": "ipython",
    "version": 3
   },
   "file_extension": ".py",
   "mimetype": "text/x-python",
   "name": "python",
   "nbconvert_exporter": "python",
   "pygments_lexer": "ipython3",
   "version": "3.8.8"
  }
 },
 "nbformat": 4,
 "nbformat_minor": 5
}
