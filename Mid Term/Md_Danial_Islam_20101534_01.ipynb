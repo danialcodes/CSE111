{
  "nbformat": 4,
  "nbformat_minor": 0,
  "metadata": {
    "colab": {
      "name": "Md. Danial Islam_20101534_01.ipynb",
      "provenance": [],
      "collapsed_sections": []
    },
    "kernelspec": {
      "name": "python3",
      "display_name": "Python 3"
    },
    "language_info": {
      "name": "python"
    }
  },
  "cells": [
    {
      "cell_type": "code",
      "metadata": {
        "id": "mvBGdzqEYMUn",
        "colab": {
          "base_uri": "https://localhost:8080/"
        },
        "outputId": "b8a75b72-fd96-42a5-a91b-172539e192d1"
      },
      "source": [
        "#Mid Summer2021 CSE111\n",
        "#Md Danial Islam\n",
        "#20101534\n",
        "#Sec: 01\n",
        "#Question_1\n",
        "\n",
        "courses = ['CSE110','CSE111','MAT620','CSE520','EEE361','CSE650','MAT510']\n",
        "courses = sorted(courses)\n",
        "\n",
        "course_dict = {}\n",
        "\n",
        "for item in courses:\n",
        "  key = item[:-3]\n",
        "  code = item[-3:]\n",
        "  if key not in course_dict:\n",
        "    course_dict[key] = {\"Undergraduate\":[],\"Graduate\":[]}\n",
        "    if int(code) < 500:\n",
        "      course_dict[key]['Undergraduate'].append(item)\n",
        "    else:\n",
        "      course_dict[key]['Graduate'].append(item)\n",
        "  else:\n",
        "    if int(code) < 500:\n",
        "      course_dict[key]['Undergraduate'].append(item)\n",
        "    else:\n",
        "      course_dict[key]['Graduate'].append(item)\n",
        "\n",
        "print(course_dict)"
      ],
      "execution_count": 1,
      "outputs": [
        {
          "output_type": "stream",
          "text": [
            "{'CSE': {'Undergraduate': ['CSE110', 'CSE111'], 'Graduate': ['CSE520', 'CSE650']}, 'EEE': {'Undergraduate': ['EEE361'], 'Graduate': []}, 'MAT': {'Undergraduate': [], 'Graduate': ['MAT510', 'MAT620']}}\n"
          ],
          "name": "stdout"
        }
      ]
    },
    {
      "cell_type": "code",
      "metadata": {
        "id": "iUH52Q8lBjNk"
      },
      "source": [
        "#Mid Summer2021 CSE111\n",
        "#Md Danial Islam\n",
        "#20101534\n",
        "#Sec: 01\n",
        "#Question_2\n",
        "\n",
        "class Advising:\n",
        "  def __init__(self,*info):\n",
        "    self.advisor = ''\n",
        "    self.student = ''\n",
        "    self.courses = {'only_course':[]}\n",
        "    size = len(info)\n",
        "    if size == 2:\n",
        "      self.student = info[0]\n",
        "      self.id = info[1]\n",
        "    elif size == 3:\n",
        "      self.student = info[0]\n",
        "      self.id = info[1]\n",
        "      self.advisor = info[2]\n",
        "  def advisor(self,name):\n",
        "    self.advisor = name\n",
        "  def add_course(self,course_name,day):\n",
        "      if self.advisor == '':\n",
        "        print('Advisor not assigned. Assign advisor name first')\n",
        "      else :\n",
        "        self.courses['only_course'].append(course_name)\n",
        "        if day not in self.courses.keys():\n",
        "          self.courses[day] = []\n",
        "          self.courses[day].append(course_name)\n",
        "        else:\n",
        "          self.courses[day].append(course_name)\n",
        "  def showDetails(self):\n",
        "    print('Student Name: {}\\nAdvisor Name: {}'.format(self.student,self.advisor))\n",
        "    # courses = []\n",
        "    # for i in self.courses.values():\n",
        "    #   for j in i:\n",
        "    #     courses.append(j)\n",
        "    # if len(courses) == 0:\n",
        "    #   print(\"No courses advised yet\")\n",
        "    # else:\n",
        "    #   print('Courses of {} - -'.format(self.id))\n",
        "    #   for item in courses:\n",
        "    #     print(item)\n",
        "    if len(self.courses) == 1:\n",
        "      print(\"No courses advised yet\")\n",
        "    else:\n",
        "      print('Courses of {} - -'.format(self.id))\n",
        "      for item in self.courses['only_course']: #to make the print look familiar\n",
        "        print(item)\n",
        "  def show_exams(self):\n",
        "    if (len(self.courses)==1):\n",
        "      print('No courses advised yet')\n",
        "    else:\n",
        "      print(\"Exams of {} - -\".format(self.id))\n",
        "      for key,val in self.courses.items():\n",
        "        if key == 'only_course': # to not show the only_course\n",
        "          continue\n",
        "        else:\n",
        "          print(key,val)\n",
        "\n",
        "\n",
        "    \n",
        "\n",
        "adv1 = Advising('Michael Scott',16100000)\n",
        "print(\"=================================\")\n",
        "adv1.add_course('Office Management','Day1')\n",
        "print(\"=================================\")\n",
        "adv1.advisor = 'David Wallace'\n",
        "adv1.add_course('Office Management','Day1')\n",
        "adv1.add_course('Employee Management','Day2')\n",
        "adv1.add_course('Intro to Best Boss','Day1')\n",
        "adv1.showDetails()\n",
        "print(\"=================================\")\n",
        "adv1.show_exams()\n",
        "print(\"####################################\")\n",
        "adv2 = Advising('Dwight Schrute',17100000,'Michael Scott')\n",
        "adv2.showDetails()\n",
        "print(\"=================================\")\n",
        "adv2.show_exams()\n",
        "print(\"=================================\")\n",
        "adv2.add_course('How to be Regional Manager','Day1')\n",
        "adv2.add_course('Farming','Day1')\n",
        "adv2.showDetails()\n",
        "print(\"=================================\")\n",
        "adv2.show_exams()\n",
        "print(\"=================================\")"
      ],
      "execution_count": null,
      "outputs": []
    }
  ]
}