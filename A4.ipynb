{
 "cells": [
  {
   "cell_type": "code",
   "execution_count": 1,
   "metadata": {
    "colab": {
     "base_uri": "https://localhost:8080/"
    },
    "id": "xHxEbXs74PPb",
    "outputId": "3482258a-c5d1-4648-bcb7-d10552f84430"
   },
   "outputs": [
    {
     "name": "stdout",
     "output_type": "stream",
     "text": [
      "Let's Calculate!\n",
      "Value 1: 1\n",
      "Operator: +\n",
      "Value 2: 2\n",
      "Result: 3\n"
     ]
    }
   ],
   "source": [
    "class Calculator:\n",
    "  def __init__(self):\n",
    "    print(\"Let's Calculate!\")\n",
    "    self.first_value = int( input(\"Value 1: \").strip() )\n",
    "    self.operator = input(\"Operator: \").strip()\n",
    "    self.second_value = int( input(\"Value 2: \").strip())\n",
    "    if(self.operator == \"+\"):\n",
    "      print('Result:',self.add())\n",
    "    elif(self.operator == \"-\"):\n",
    "      print('Result:',self.subtract())\n",
    "    elif(self.operator == \"*\"):\n",
    "      print('Result:',self.multiply())\n",
    "    elif(self.operator == \"/\"):\n",
    "      print('Result:',self.divide())\n",
    "\n",
    "  def add(self):\n",
    "    return self.first_value + self.second_value\n",
    "  def subtract(self):\n",
    "    return self.first_value - self.second_value\n",
    "  def multiply(self):\n",
    "    return self.first_value * self.second_value\n",
    "  def divide(self):\n",
    "    return self.first_value / self.second_value\n",
    "check = Calculator()"
   ]
  },
  {
   "cell_type": "code",
   "execution_count": 2,
   "metadata": {
    "colab": {
     "base_uri": "https://localhost:8080/"
    },
    "id": "GbCbwCTRJCzD",
    "outputId": "6ad43f2b-602d-41df-c53a-ad0b62ee8fbc"
   },
   "outputs": [
    {
     "name": "stdout",
     "output_type": "stream",
     "text": [
      "Hello!\n",
      "Sam, you purchased 3 item(s):\n",
      "chips\n",
      "chocolate\n",
      "orange juice\n",
      "-----------------------------\n",
      "Hello David!\n",
      "David, you purchased 1 item(s):\n",
      "orange juice\n"
     ]
    }
   ],
   "source": [
    "class Customer:\n",
    "  def __init__(self,name):\n",
    "    self.name = name\n",
    "  def greet(self,gt_name=None):\n",
    "    if ( gt_name==None):\n",
    "      print('Hello!')\n",
    "    else:\n",
    "      print('Hello '+gt_name+\"!\")\n",
    "  def purchase(self,*items):\n",
    "    print(\"{}, you purchased {} item(s):\".format(self.name,len(items)))\n",
    "    for item in items:\n",
    "      print(item)\n",
    "\n",
    "customer_1 = Customer(\"Sam\")\n",
    "customer_1.greet()\n",
    "customer_1.purchase(\"chips\", \"chocolate\", \"orange juice\")\n",
    "print(\"-----------------------------\")\n",
    "customer_2 = Customer(\"David\")\n",
    "customer_2.greet(\"David\")\n",
    "customer_2.purchase(\"orange juice\")"
   ]
  },
  {
   "cell_type": "code",
   "execution_count": 3,
   "metadata": {
    "colab": {
     "base_uri": "https://localhost:8080/"
    },
    "id": "v1C5wCCEOI8Z",
    "outputId": "a961e566-b9fc-45a7-8483-da3ad232bc09"
   },
   "outputs": [
    {
     "name": "stdout",
     "output_type": "stream",
     "text": [
      "Kunfu is a Male Panda Bear who is 5 years old\n",
      "Pan Pan is a Female Panda Bear who is 3 years old\n",
      "Ming Ming is a Female Panda Bear who is 8 years old\n",
      "===========================\n",
      "Pan Pan sleeps 10 hours daily and should have Broccoli Chicken\n",
      "Kunfu sleeps 4 hours daily and should have  Mixed Veggies\n",
      "Ming Ming's duration is unknown thus should have only bamboo leaves\n"
     ]
    }
   ],
   "source": [
    "class Panda:\n",
    "  def __init__(self,name,gender,age):\n",
    "    self.name = name\n",
    "    self.gender = gender\n",
    "    self.age = age\n",
    "  def sleep(self,*time):\n",
    "    foods = [\" Mixed Veggies\",\"Eggplant & Tofu\",\"Broccoli Chicken\",\"bamboo leaves\"]\n",
    "    if (len(time)):\n",
    "\n",
    "      self.sleep_time = time[0]\n",
    "      if self.sleep_time >= 3 and self.sleep_time <= 5:\n",
    "        return \"{} sleeps {} hours daily and should have {}\".format(self.name,self.sleep_time,foods[0])\n",
    "      elif self.sleep_time >= 6 and self.sleep_time <= 8:\n",
    "        return \"{} sleeps {} hours daily and should have {}\".format(self.name,self.sleep_time,foods[1])\n",
    "      elif self.sleep_time >= 9 and self.sleep_time <= 11:\n",
    "        return \"{} sleeps {} hours daily and should have {}\".format(self.name,self.sleep_time,foods[2])\n",
    "    else:\n",
    "      return \"{}'s duration is unknown thus should have only {}\".format(self.name,foods[3])\n",
    "\n",
    "      \n",
    "\n",
    "\n",
    "panda1 = Panda(\"Kunfu\",\"Male\", 5)\n",
    "panda2=Panda(\"Pan Pan\",\"Female\",3)\n",
    "panda3=Panda(\"Ming Ming\",\"Female\",8)\n",
    "print(\"{} is a {} Panda Bear who is {} years old\".format(panda1.name,panda1.gender,panda1.age))\n",
    "print(\"{} is a {} Panda Bear who is {} years old\".format(panda2.name,panda2.gender,panda2.age))\n",
    "print(\"{} is a {} Panda Bear who is {} years old\".format(panda3.name,panda3.gender,panda3.age))\n",
    "print(\"===========================\")\n",
    "print(panda2.sleep(10))\n",
    "print(panda1.sleep(4))\n",
    "print(panda3.sleep())"
   ]
  },
  {
   "cell_type": "code",
   "execution_count": 4,
   "metadata": {
    "colab": {
     "base_uri": "https://localhost:8080/"
    },
    "id": "KUww8UzIVS_A",
    "outputId": "ad571fa1-01de-4c00-f290-4317c71c8ac3"
   },
   "outputs": [
    {
     "name": "stdout",
     "output_type": "stream",
     "text": [
      "White cat is sitting\n",
      "Black cat is sitting\n",
      "Brown cat is jumping\n",
      "Red cat is purring\n",
      "Blue cat is sitting\n",
      "Purple cat is jumping\n"
     ]
    }
   ],
   "source": [
    "class Cat:\n",
    "  def __init__(self,*attribute):\n",
    "    if(len(attribute)==2):\n",
    "      self.color = attribute[0]\n",
    "      self.do = attribute[1]\n",
    "    elif(len(attribute)==1):\n",
    "      self.color = attribute[0]\n",
    "      self.do = \"sitting\"\n",
    "    else:\n",
    "      self.color = \"White\"\n",
    "      self.do = \"sitting\"\n",
    "    \n",
    "  def printCat(self):\n",
    "    print(\"{} cat is {}\".format(self.color,self.do))\n",
    "  def changeColor(self,color):\n",
    "    self.color = color\n",
    "\n",
    "c1 = Cat()\n",
    "c2 = Cat(\"Black\")\n",
    "c3 = Cat(\"Brown\", \"jumping\")\n",
    "c4 = Cat(\"Red\", \"purring\")\n",
    "c1.printCat()\n",
    "c2.printCat()\n",
    "c3.printCat()\n",
    "c4.printCat()\n",
    "c1.changeColor(\"Blue\")\n",
    "c3.changeColor(\"Purple\")\n",
    "c1.printCat()\n",
    "c3.printCat()"
   ]
  },
  {
   "cell_type": "code",
   "execution_count": 4,
   "metadata": {
    "colab": {
     "base_uri": "https://localhost:8080/"
    },
    "id": "Z1eyPgFcebkw",
    "outputId": "7aa53063-7a06-45c7-8af1-9c95de4a23a8"
   },
   "outputs": [
    {
     "name": "stdout",
     "output_type": "stream",
     "text": [
      "--------------------------------\n",
      "Hello default student\n",
      "Your average quiz score is 3.3333333333333335\n",
      "--------------------------------\n",
      "Hello Harry\n",
      "Your average quiz score is 6.0\n",
      "--------------------------------\n",
      "Hello Hermione\n",
      "Your average quiz score is 9.666666666666666\n"
     ]
    }
   ],
   "source": [
    "class Student:\n",
    "  def __init__(self,name=\"default student\"):\n",
    "    self.name = name\n",
    "    self.quizAvg = 0\n",
    "  def printdetail(self):\n",
    "    print(\"Hello {}\".format(self.name))\n",
    "    print(\"Your average quiz score is {}\".format(self.quizAvg))\n",
    "  def quizcalc(self,*marks):\n",
    "    self.quizAvg = sum(marks)/3\n",
    "\n",
    "s1 = Student()\n",
    "s1.quizcalc(10)\n",
    "print('--------------------------------')\n",
    "s1.printdetail()\n",
    "s2 = Student('Harry')\n",
    "s2.quizcalc(10,8)\n",
    "print('--------------------------------')\n",
    "s2.printdetail()\n",
    "s3 = Student('Hermione')\n",
    "s3.quizcalc(10,9,10)\n",
    "print('--------------------------------')\n",
    "s3.printdetail()"
   ]
  },
  {
   "cell_type": "code",
   "execution_count": 5,
   "metadata": {
    "colab": {
     "base_uri": "https://localhost:8080/"
    },
    "id": "LtclsVMShyFY",
    "outputId": "f03052a4-1059-4b7c-dc65-d8347031bd8c"
   },
   "outputs": [
    {
     "name": "stdout",
     "output_type": "stream",
     "text": [
      "(0, 0)\n",
      "(0, 1)\n",
      "(-1, 1)\n",
      "(-1, 0)\n"
     ]
    }
   ],
   "source": [
    "class Vehicle:\n",
    "  def __init__(self):\n",
    "    self.co_ordinates = [0,0]\n",
    "\n",
    "  def print_position(self):\n",
    "    print(tuple(self.co_ordinates))\n",
    "\n",
    "  def moveUp(self):\n",
    "    self.co_ordinates[1]+=1\n",
    "  def moveLeft(self):\n",
    "    self.co_ordinates[0]-=1\n",
    "  def moveDown(self):\n",
    "    self.co_ordinates[1]-=1\n",
    "  def moveRight(self):\n",
    "    self.co_ordinates[0]+=1\n",
    "car = Vehicle()\n",
    "car.print_position()\n",
    "car.moveUp()\n",
    "car.print_position()\n",
    "car.moveLeft()\n",
    "car.print_position()\n",
    "car.moveDown()\n",
    "car.print_position()\n",
    "car.moveRight()"
   ]
  },
  {
   "cell_type": "code",
   "execution_count": 6,
   "metadata": {
    "colab": {
     "base_uri": "https://localhost:8080/"
    },
    "id": "_htvY8cyh1EY",
    "outputId": "d8315814-1c60-49ee-ebd7-5e879bee4212"
   },
   "outputs": [
    {
     "name": "stdout",
     "output_type": "stream",
     "text": [
      "Horray! A new programmer is born\n",
      "Name: Ethen Hunt\n",
      "Language: Java\n",
      "Experience: 10 years.\n",
      "--------------------------\n",
      "Horray! A new programmer is born\n",
      "Name: James Bond\n",
      "Language: C++\n",
      "Experience: 7 years.\n",
      "--------------------------\n",
      "Horray! A new programmer is born\n",
      "Name: Jon Snow\n",
      "Language: Python\n",
      "Experience: 4 years.\n",
      "Updating experience of Jon Snow\n",
      "Name: Jon Snow\n",
      "Language: Python\n",
      "Experience: 9 years.\n"
     ]
    }
   ],
   "source": [
    "class Programmer:\n",
    "  def __init__(self,name,language,experience):\n",
    "    print(\"Horray! A new programmer is born\")\n",
    "    self.name = name\n",
    "    self.language = language\n",
    "    self.experience = experience\n",
    "  def printDetails(self):\n",
    "    print(\"Name: {}\\nLanguage: {}\\nExperience: {} years.\".\\\n",
    "          format(self.name,self.language,self.experience))\n",
    "  def addExp(self,year):\n",
    "    print(\"Updating experience of {}\".format(self.name))\n",
    "    self.experience+=year\n",
    "\n",
    "p1 = Programmer(\"Ethen Hunt\", \"Java\", 10)\n",
    "p1.printDetails()\n",
    "print('--------------------------')\n",
    "p2 = Programmer(\"James Bond\", \"C++\", 7)\n",
    "p2.printDetails()\n",
    "print('--------------------------')\n",
    "p3 = Programmer(\"Jon Snow\", \"Python\", 4)\n",
    "p3.printDetails()\n",
    "p3.addExp(5)\n",
    "p3.printDetails() "
   ]
  },
  {
   "cell_type": "code",
   "execution_count": 7,
   "metadata": {
    "colab": {
     "base_uri": "https://localhost:8080/"
    },
    "id": "AzfeGpABmtuA",
    "outputId": "3f3d15ad-fca7-4bfe-b248-fe65934844e0"
   },
   "outputs": [
    {
     "name": "stdout",
     "output_type": "stream",
     "text": [
      "Name: Harry Potter\n",
      "ID: 123\n",
      "Department: CSE\n",
      "Daily Effort: 3 hour(s)\n",
      "Suggestion: Keep up the good work!\n",
      "========================\n",
      "Name: John Wick\n",
      "ID: 456\n",
      "Department: BBA\n",
      "Daily Effort: 2 hour(s)\n",
      "Suggestion: Should give more effort!\n",
      "========================\n",
      "Name: Naruto Uzumaki\n",
      "ID: 777\n",
      "Department: Ninja\n",
      "Daily Effort: 6 hour(s)\n",
      "Suggestion: Excellent! Now motivate others.\n"
     ]
    }
   ],
   "source": [
    "class Student:\n",
    "  def __init__(self,name,id,department=\"CSE\"):\n",
    "    self.name = name\n",
    "    self.id = id\n",
    "    self.department = department\n",
    "\n",
    "  def dailyEffort(self,time=0):\n",
    "    self.dailyEffort = time\n",
    "\n",
    "  def printDetails(self):\n",
    "    if (self.dailyEffort <= 2):\n",
    "      self.suggestion = \"Should give more effort!\"\n",
    "    elif (self.dailyEffort <= 4):\n",
    "      self.suggestion = \"Keep up the good work!\"\n",
    "    else:\n",
    "      self.suggestion = \"Excellent! Now motivate others.\"\n",
    "    print(\"Name: {}\\nID: {}\\nDepartment: {}\\nDaily Effort: {} hour(s)\\nSuggestion: {}\".\\\n",
    "          format(self.name,self.id,self.department,self.dailyEffort,self.suggestion))\n",
    "\n",
    "\n",
    "harry = Student('Harry Potter', 123)\n",
    "harry.dailyEffort(3)\n",
    "harry.printDetails()\n",
    "print('========================')\n",
    "john = Student(\"John Wick\", 456, \"BBA\")\n",
    "john.dailyEffort(2)\n",
    "john.printDetails()\n",
    "print('========================')\n",
    "naruto = Student(\"Naruto Uzumaki\", 777, \"Ninja\")\n",
    "naruto.dailyEffort(6)\n",
    "naruto.printDetails()"
   ]
  },
  {
   "cell_type": "code",
   "execution_count": 9,
   "metadata": {
    "colab": {
     "base_uri": "https://localhost:8080/"
    },
    "id": "KG2BWUHypd-x",
    "outputId": "b56e34ae-b66e-4b2e-fca0-8e8d67d88cf7"
   },
   "outputs": [
    {
     "name": "stdout",
     "output_type": "stream",
     "text": [
      "=========================\n",
      "Name: Thomas\n",
      "Age: 23\n",
      "Symptoms: Headache\n",
      "=========================\n",
      "Name: Carol\n",
      "Age: 20\n",
      "Symptoms: Vomiting, Coughing\n",
      "=========================\n",
      "Name: Mike\n",
      "Age: 25\n",
      "Symptoms: Fever, Headache, Coughing\n",
      "=========================\n"
     ]
    }
   ],
   "source": [
    "class Patient:\n",
    "  def __init__(self,name,age):\n",
    "    self.name = name\n",
    "    self.age = age\n",
    "\n",
    "  def add_Symptom(self,*symptoms):\n",
    "    self.symptoms =''\n",
    "    for i in symptoms:\n",
    "      self.symptoms += i+\", \"\n",
    "    self.symptoms = self.symptoms[:-2]\n",
    "  def printPatientDetail(self):\n",
    "    print(\"Name: {}\\nAge: {}\\nSymptoms: {}\".\\\n",
    "          format(self.name,self.age,self.symptoms))\n",
    "p1 = Patient(\"Thomas\", 23)\n",
    "p1.add_Symptom(\"Headache\")\n",
    "p2 = Patient(\"Carol\", 20)\n",
    "p2.add_Symptom(\"Vomiting\", \"Coughing\")\n",
    "p3 = Patient(\"Mike\", 25)\n",
    "p3.add_Symptom(\"Fever\", \"Headache\", \"Coughing\")\n",
    "print(\"=========================\")\n",
    "p1.printPatientDetail()\n",
    "print(\"=========================\")\n",
    "p2.printPatientDetail()\n",
    "print(\"=========================\")\n",
    "p3.printPatientDetail()\n",
    "print(\"=========================\")"
   ]
  },
  {
   "cell_type": "code",
   "execution_count": 8,
   "metadata": {
    "colab": {
     "base_uri": "https://localhost:8080/"
    },
    "id": "mvVG1aMGqxjq",
    "outputId": "df4de227-5576-4eab-f8a8-a26214eee072"
   },
   "outputs": [
    {
     "name": "stdout",
     "output_type": "stream",
     "text": [
      "=========================\n",
      "Name: Captain America\n",
      "Partner: Bucky Barnes\n",
      "Super powers: Stamina, Slowed ageing\n",
      "=========================\n",
      "Name: Doctor Strange\n",
      "Partner: Ancient One\n",
      "Super powers: Mastery of magic\n",
      "=========================\n",
      "Name: Iron Man\n",
      "Partner: War Machine\n",
      "Super powers: Genius level intellect, Scientist \n",
      "=========================\n"
     ]
    }
   ],
   "source": [
    "class Avengers:\n",
    "  def __init__(self,name,partner):\n",
    "    self.name = name\n",
    "    self.partner = partner\n",
    "  def super_powers(self,*sPowers):\n",
    "    self.sPowers =''\n",
    "    for i in sPowers:\n",
    "      self.sPowers += i+\", \"\n",
    "    self.sPowers = self.sPowers[:-2]\n",
    "\n",
    "  def printAvengersDetail(self):\n",
    "    print(\"Name: {}\\nPartner: {}\\nSuper powers: {}\".\\\n",
    "          format(self.name,self.partner,self.sPowers))\n",
    "\n",
    "\n",
    "\n",
    "a1 = Avengers('Captain America', 'Bucky Barnes')\n",
    "a1.super_powers('Stamina', 'Slowed ageing')\n",
    "a2 = Avengers('Doctor Strange', 'Ancient One')\n",
    "a2.super_powers('Mastery of magic')\n",
    "a3 = Avengers('Iron Man', 'War Machine')\n",
    "a3.super_powers('Genius level intellect', 'Scientist ')\n",
    "print(\"=========================\")\n",
    "a1.printAvengersDetail()\n",
    "print(\"=========================\")\n",
    "a2.printAvengersDetail()\n",
    "print(\"=========================\")\n",
    "a3.printAvengersDetail()\n",
    "print(\"=========================\")"
   ]
  },
  {
   "cell_type": "code",
   "execution_count": 11,
   "metadata": {
    "colab": {
     "base_uri": "https://localhost:8080/"
    },
    "id": "MM-uH2R-tGpA",
    "outputId": "b7c901e6-5f6d-476a-e984-d1d03362eef8"
   },
   "outputs": [
    {
     "name": "stdout",
     "output_type": "stream",
     "text": [
      "Name: Naruto\n",
      "Rank: Genin\n",
      "Number of mission: 5\n",
      "Salary: 250\n",
      "====================\n",
      "Name: Shikamaru\n",
      "Rank: Genin\n",
      "Number of mission: 0\n",
      "Salary: 0\n",
      "Name: Shikamaru\n",
      "Rank: Chunin\n",
      "Number of mission: 10\n",
      "Salary: 1000\n",
      "====================\n",
      "Name: Neiji\n",
      "Rank: Jonin\n",
      "Number of mission: 5\n",
      "Salary: 2500\n"
     ]
    }
   ],
   "source": [
    "class Shinobi:\n",
    "  def __init__(self,name,rank):\n",
    "    self.name = name\n",
    "    self.rank = rank\n",
    "    self.salary = 0\n",
    "    self.mission = 0\n",
    "  def changeRank(self,rank):\n",
    "    self.rank = rank\n",
    "  def calSalary(self,mission):\n",
    "    self.mission = mission\n",
    "    if (self.rank == 'Genin'):\n",
    "      self.salary = self.mission * 50\n",
    "    elif (self.rank == 'Chunin'):\n",
    "      self.salary = self.mission * 100\n",
    "    else:\n",
    "      self.salary = self.mission * 500\n",
    "  def printInfo(self):\n",
    "    print(\"Name: {}\\nRank: {}\\nNumber of mission: {}\\nSalary: {}\".\\\n",
    "          format(self.name,self.rank,self.mission,self.salary))\n",
    "\n",
    "\n",
    "\n",
    "naruto = Shinobi(\"Naruto\", \"Genin\")\n",
    "naruto.calSalary(5)\n",
    "naruto.printInfo()\n",
    "print('====================')\n",
    "shikamaru = Shinobi('Shikamaru', \"Genin\")\n",
    "shikamaru.printInfo()\n",
    "shikamaru.changeRank(\"Chunin\")\n",
    "shikamaru.calSalary(10)\n",
    "shikamaru.printInfo()\n",
    "print('====================')\n",
    "neiji = Shinobi(\"Neiji\", \"Jonin\")\n",
    "neiji.calSalary(5)\n",
    "neiji.printInfo()"
   ]
  },
  {
   "cell_type": "code",
   "execution_count": 9,
   "metadata": {
    "colab": {
     "base_uri": "https://localhost:8080/"
    },
    "id": "FubcB0IdzyOo",
    "outputId": "a1c4ade5-c86e-4dac-a7fe-1a7071f13e7a"
   },
   "outputs": [
    {
     "name": "stdout",
     "output_type": "stream",
     "text": [
      "**********************\n",
      "Customer Name: No name set\n",
      "Product Weight: 0\n",
      "Total fee: 0\n",
      "**********************\n",
      "Customer Name: Bob The Builder\n",
      "Product Weight: 0\n",
      "Total fee: 0\n",
      "----------------------------\n",
      "Customer Name: Bob The Builder\n",
      "Product Weight: 15\n",
      "Total fee: 350\n",
      "**********************\n",
      "Customer Name: Dora The Explorer\n",
      "Product Weight: 10\n",
      "Total fee: 300\n"
     ]
    }
   ],
   "source": [
    "class ParcelKoro:\n",
    "  def __init__(self,name='No name set',weight=0):\n",
    "    self.name = name\n",
    "    self.product_weight = weight\n",
    "  def calculateFee(self,location=None):\n",
    "    if (location!=None):\n",
    "      self.location_charge = 100\n",
    "    else:\n",
    "      self.location_charge = 50\n",
    "    \n",
    "    if (self.product_weight==0):\n",
    "      self.total_fee = 0\n",
    "    else:\n",
    "      self.total_fee = (self.product_weight * 20) + self.location_charge\n",
    "  def printDetails(self):\n",
    "    print(\"Customer Name: {}\\nProduct Weight: {}\\nTotal fee: {}\".\\\n",
    "          format(self.name,self.product_weight,self.total_fee))\n",
    "\n",
    "\n",
    "print(\"**********************\")\n",
    "p1 = ParcelKoro()\n",
    "p1.calculateFee()\n",
    "p1.printDetails()\n",
    "print(\"**********************\")\n",
    "p2 = ParcelKoro('Bob The Builder')\n",
    "p2.calculateFee()\n",
    "p2.printDetails()\n",
    "print(\"----------------------------\")\n",
    "p2.product_weight = 15\n",
    "p2.calculateFee()\n",
    "p2.printDetails()\n",
    "print(\"**********************\")\n",
    "p3 = ParcelKoro('Dora The Explorer', 10)\n",
    "p3.calculateFee('Dhanmondi')\n",
    "p3.printDetails()"
   ]
  },
  {
   "cell_type": "code",
   "execution_count": 13,
   "metadata": {
    "colab": {
     "base_uri": "https://localhost:8080/"
    },
    "id": "xj0QrjAW7zoP",
    "outputId": "037cd52c-5bc2-46a2-aa8a-aab02225264c"
   },
   "outputs": [
    {
     "name": "stdout",
     "output_type": "stream",
     "text": [
      "Name: New Batsman\n",
      "Runs Scored: 6101 , Balls Faced: 7380\n",
      "============================\n",
      "Name: Liton Das\n",
      "Runs Scored: 678 , Balls Faced: 773\n",
      "----------------------------\n",
      "87.71021992238033\n",
      "============================\n",
      "Name: Shakib Al Hasan\n",
      "Runs Scored: 6101 , Balls Faced: 7380\n",
      "----------------------------\n",
      "82.66937669376694\n"
     ]
    }
   ],
   "source": [
    "class Batsman:\n",
    "  def __init__(self,*info):\n",
    "    if (len(info)==3):\n",
    "      self.name = info[0]\n",
    "      self.runsScored = info[1]\n",
    "      self.ballsFaced = info[2]\n",
    "    else:\n",
    "      self.name = 'New Batsman'\n",
    "      self.runsScored = info[0]\n",
    "      self.ballsFaced = info[1]\n",
    "\n",
    "  def printCareerStatistics(self):\n",
    "    print(\"Name: {}\\nRuns Scored: {} , Balls Faced: {}\".\\\n",
    "          format(self.name,self.runsScored,self.ballsFaced))\n",
    "  def battingStrikeRate(self):\n",
    "    return (self.runsScored/self.ballsFaced)*100\n",
    "  def setName(self,name):\n",
    "    self.name = name\n",
    "\n",
    "\n",
    "b1 = Batsman(6101, 7380)\n",
    "b1.printCareerStatistics()\n",
    "print(\"============================\")\n",
    "b2 = Batsman(\"Liton Das\", 678, 773)\n",
    "b2.printCareerStatistics()\n",
    "print(\"----------------------------\")\n",
    "print(b2.battingStrikeRate())\n",
    "print(\"============================\")\n",
    "b1.setName(\"Shakib Al Hasan\")\n",
    "b1.printCareerStatistics()\n",
    "print(\"----------------------------\")\n",
    "print(b1.battingStrikeRate())\n"
   ]
  },
  {
   "cell_type": "code",
   "execution_count": 10,
   "metadata": {
    "colab": {
     "base_uri": "https://localhost:8080/"
    },
    "id": "1pPO2ejo991f",
    "outputId": "8d0aa17b-6459-4f57-f9ec-2502cd0edc3e"
   },
   "outputs": [
    {
     "name": "stdout",
     "output_type": "stream",
     "text": [
      "===================\n",
      "Name: Manchester United\n",
      "Song: Glory Glory Man United\n",
      "Total No of title: 0\n",
      "##################\n",
      "Name: Manchester United\n",
      "Song: Glory Glory Man United\n",
      "Total No of title: 1\n",
      "===================\n",
      "Name: Chelsea\n",
      "Song: No Slogan\n",
      "Total No of title: 0\n",
      "Name: Chelsea\n",
      "Song: Keep the blue flag flying high\n",
      "Total No of title: 0\n"
     ]
    }
   ],
   "source": [
    "class EPL_Team:\n",
    "  def __init__(self,name,song=\"No Slogan\"):\n",
    "    self.name = name\n",
    "    self.song = song\n",
    "    self.title = 0\n",
    "  \n",
    "  def showClubInfo(self):\n",
    "    return (\"Name: {}\\nSong: {}\\nTotal No of title: {}\".\\\n",
    "          format(self.name,self.song,self.title))\n",
    "  def increaseTitle(self):\n",
    "    self.title +=1\n",
    "  def changeSong(self,song):\n",
    "    self.song = song\n",
    "  \n",
    "\n",
    "manu = EPL_Team('Manchester United', 'Glory Glory Man United')\n",
    "chelsea = EPL_Team('Chelsea')\n",
    "print('===================')\n",
    "print(manu.showClubInfo())\n",
    "print('##################')\n",
    "manu.increaseTitle()\n",
    "print(manu.showClubInfo())\n",
    "print('===================')\n",
    "print(chelsea.showClubInfo())\n",
    "chelsea.changeSong('Keep the blue flag flying high')\n",
    "print(chelsea.showClubInfo())"
   ]
  },
  {
   "cell_type": "code",
   "execution_count": 11,
   "metadata": {
    "colab": {
     "base_uri": "https://localhost:8080/"
    },
    "id": "re1BRqE_AQMm",
    "outputId": "376a9c23-52fb-4fc0-e8de-49df97667e75"
   },
   "outputs": [
    {
     "name": "stdout",
     "output_type": "stream",
     "text": [
      "Default Account\n",
      "0.0\n",
      "------------------------\n",
      "Oliver\n",
      "10000.0\n",
      "------------------------\n",
      "Liam\n",
      "0.0\n",
      "------------------------\n",
      "Noah\n",
      "400.0\n",
      "------------------------\n",
      "Sorry, Withdraw unsuccessful! The account balance after deducting withdraw amount is equal to or less than minimum.\n",
      "------------------------\n",
      "Sorry, Withdraw unsuccessful! The account balance after deducting withdraw amount is equal to or less than minimum.\n",
      "------------------------\n",
      "Withdraw successful! New balance is: 3071.0\n"
     ]
    }
   ],
   "source": [
    "class Account:\n",
    "  def __init__(self,name=\"Default Account\",balance = 0.0):\n",
    "    self.name = name\n",
    "    self.balance = balance\n",
    "  def details(self):\n",
    "    return \"{}\\n{}\".format(self.name,float(self.balance))\n",
    "\n",
    "  def withdraw(self,ammount):\n",
    "    if (self.balance - ammount) <= 3070:\n",
    "      print(\"Sorry, Withdraw unsuccessful! The account balance after deducting withdraw amount is equal to or less than minimum.\")\n",
    "    else:\n",
    "      self.balance = self.balance - ammount\n",
    "      print('Withdraw successful! New balance is: {}'.format(self.balance))\n",
    "\n",
    "\n",
    "a1 = Account()\n",
    "print(a1.details())\n",
    "print(\"------------------------\")\n",
    "a1.name = \"Oliver\"\n",
    "a1.balance = 10000.0\n",
    "print(a1.details())\n",
    "print(\"------------------------\")\n",
    "a2 = Account(\"Liam\")\n",
    "print(a2.details())\n",
    "print(\"------------------------\")\n",
    "a3 = Account(\"Noah\",400)\n",
    "print(a3.details())\n",
    "print(\"------------------------\")\n",
    "a1.withdraw(6930);\n",
    "print(\"------------------------\")\n",
    "a2.withdraw(600);\n",
    "print(\"------------------------\")\n",
    "a1.withdraw(6929)"
   ]
  },
  {
   "cell_type": "code",
   "execution_count": 16,
   "metadata": {
    "colab": {
     "base_uri": "https://localhost:8080/"
    },
    "id": "M1nrX7AiC49f",
    "outputId": "776f56bb-3ffb-4612-bf96-87d9cbd7fd0b"
   },
   "outputs": [
    {
     "name": "stdout",
     "output_type": "stream",
     "text": [
      "Author Name: Humayun Ahmed\n",
      "--------\n",
      "List of Books:\n",
      "Deyal\n",
      "Megher Opor Bari\n",
      "===================\n",
      "Default\n",
      "===================\n",
      "Author Name: Mario Puzo\n",
      "--------\n",
      "List of Books:\n",
      "The Godfather\n",
      "Omerta\n",
      "The Sicilian\n",
      "===================\n",
      "Author Name: Paolo Coelho\n",
      "--------\n",
      "List of Books:\n",
      "The Alchemist\n",
      "The Fifth Mountain\n"
     ]
    }
   ],
   "source": [
    "class Author:\n",
    "  def __init__(self,name=\"Default\",*books):\n",
    "    self.name = name\n",
    "    self.books = books\n",
    "  def changeName(self,name):\n",
    "    self.name = name\n",
    "  def addBooks(self,*books):\n",
    "    self.books = books\n",
    "  def printDetails(self):\n",
    "    print(\"Author Name: {}\".format(self.name))\n",
    "    print(\"--------\")\n",
    "    print(\"List of Books:\")\n",
    "    for book in self.books:\n",
    "      print(book)\n",
    "\n",
    "\n",
    "auth1 = Author('Humayun Ahmed')\n",
    "auth1.addBooks('Deyal', 'Megher Opor Bari')\n",
    "auth1.printDetails()\n",
    "print(\"===================\")\n",
    "auth2 = Author()\n",
    "print(auth2.name)\n",
    "auth2.changeName('Mario Puzo')\n",
    "auth2.addBooks('The Godfather', 'Omerta', 'The Sicilian')\n",
    "print(\"===================\")\n",
    "auth2.printDetails()\n",
    "print(\"===================\")\n",
    "auth3 = Author('Paolo Coelho', 'The Alchemist', 'The Fifth Mountain')\n",
    "auth3.printDetails()"
   ]
  }
 ],
 "metadata": {
  "colab": {
   "name": "Assignment 04_20101534_Md Danial Islam.ipynb",
   "provenance": []
  },
  "kernelspec": {
   "display_name": "Python 3",
   "language": "python",
   "name": "python3"
  },
  "language_info": {
   "codemirror_mode": {
    "name": "ipython",
    "version": 3
   },
   "file_extension": ".py",
   "mimetype": "text/x-python",
   "name": "python",
   "nbconvert_exporter": "python",
   "pygments_lexer": "ipython3",
   "version": "3.8.8"
  }
 },
 "nbformat": 4,
 "nbformat_minor": 1
}
